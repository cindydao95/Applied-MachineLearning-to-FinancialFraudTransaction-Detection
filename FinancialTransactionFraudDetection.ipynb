{
 "cells": [
  {
   "cell_type": "code",
   "execution_count": 1,
   "id": "3cca3e32",
   "metadata": {},
   "outputs": [],
   "source": [
    "import matplotlib\n",
    "import matplotlib.pyplot as plt\n",
    "%matplotlib inline  \n",
    "\n",
    "import re\n",
    "\n",
    "import pandas as pd\n",
    "import seaborn as sns\n",
    "import numpy as np"
   ]
  },
  {
   "cell_type": "code",
   "execution_count": 2,
   "id": "ba7593fa",
   "metadata": {},
   "outputs": [],
   "source": [
    "#Read the financial JPMorgan dataset\n",
    "file_path =\"fraud_payment_dataJPmorgan.csv\"\n",
    "jp_df = pd.read_csv(file_path)"
   ]
  },
  {
   "cell_type": "markdown",
   "id": "469e712e",
   "metadata": {},
   "source": [
    "# 1. Explore Data and Handle Missing Values"
   ]
  },
  {
   "cell_type": "code",
   "execution_count": 3,
   "id": "b72769cb",
   "metadata": {},
   "outputs": [
    {
     "data": {
      "text/html": [
       "<div>\n",
       "<style scoped>\n",
       "    .dataframe tbody tr th:only-of-type {\n",
       "        vertical-align: middle;\n",
       "    }\n",
       "\n",
       "    .dataframe tbody tr th {\n",
       "        vertical-align: top;\n",
       "    }\n",
       "\n",
       "    .dataframe thead th {\n",
       "        text-align: right;\n",
       "    }\n",
       "</style>\n",
       "<table border=\"1\" class=\"dataframe\">\n",
       "  <thead>\n",
       "    <tr style=\"text-align: right;\">\n",
       "      <th></th>\n",
       "      <th>Time_step</th>\n",
       "      <th>Transaction_Id</th>\n",
       "      <th>Sender_Id</th>\n",
       "      <th>Sender_Account</th>\n",
       "      <th>Sender_Country</th>\n",
       "      <th>Sender_Sector</th>\n",
       "      <th>Sender_lob</th>\n",
       "      <th>Bene_Id</th>\n",
       "      <th>Bene_Account</th>\n",
       "      <th>Bene_Country</th>\n",
       "      <th>USD_amount</th>\n",
       "      <th>Label</th>\n",
       "      <th>Transaction_Type</th>\n",
       "    </tr>\n",
       "  </thead>\n",
       "  <tbody>\n",
       "    <tr>\n",
       "      <th>0</th>\n",
       "      <td>2022-03-15 10:24:00</td>\n",
       "      <td>EXCHANGE-10115</td>\n",
       "      <td>JPMC-CLIENT-10098</td>\n",
       "      <td>ACCOUNT-10108</td>\n",
       "      <td>USA</td>\n",
       "      <td>35537.0</td>\n",
       "      <td>CCB</td>\n",
       "      <td>NaN</td>\n",
       "      <td>NaN</td>\n",
       "      <td>NaN</td>\n",
       "      <td>558.43</td>\n",
       "      <td>0</td>\n",
       "      <td>WITHDRAWAL</td>\n",
       "    </tr>\n",
       "    <tr>\n",
       "      <th>1</th>\n",
       "      <td>2022-03-15 10:24:00</td>\n",
       "      <td>QUICK-PAYMENT-10116</td>\n",
       "      <td>JPMC-CLIENT-10098</td>\n",
       "      <td>ACCOUNT-10109</td>\n",
       "      <td>USA</td>\n",
       "      <td>15287.0</td>\n",
       "      <td>CCB</td>\n",
       "      <td>CLIENT-10100</td>\n",
       "      <td>ACCOUNT-10106</td>\n",
       "      <td>CANADA</td>\n",
       "      <td>622.78</td>\n",
       "      <td>0</td>\n",
       "      <td>QUICK-PAYMENT</td>\n",
       "    </tr>\n",
       "    <tr>\n",
       "      <th>2</th>\n",
       "      <td>2022-03-15 10:24:00</td>\n",
       "      <td>DEPOSIT-CASH-9833</td>\n",
       "      <td>NaN</td>\n",
       "      <td>NaN</td>\n",
       "      <td>NaN</td>\n",
       "      <td>NaN</td>\n",
       "      <td>NaN</td>\n",
       "      <td>JPMC-CLIENT-9812</td>\n",
       "      <td>ACCOUNT-9826</td>\n",
       "      <td>USA</td>\n",
       "      <td>802.54</td>\n",
       "      <td>0</td>\n",
       "      <td>DEPOSIT-CASH</td>\n",
       "    </tr>\n",
       "    <tr>\n",
       "      <th>3</th>\n",
       "      <td>2022-03-15 10:24:00</td>\n",
       "      <td>PAY-CHECK-9832</td>\n",
       "      <td>JPMC-CLIENT-9812</td>\n",
       "      <td>ACCOUNT-9825</td>\n",
       "      <td>USA</td>\n",
       "      <td>38145.0</td>\n",
       "      <td>CCB</td>\n",
       "      <td>JPMC-CLIENT-9814</td>\n",
       "      <td>ACCOUNT-9824</td>\n",
       "      <td>USA</td>\n",
       "      <td>989.09</td>\n",
       "      <td>0</td>\n",
       "      <td>PAY-CHECK</td>\n",
       "    </tr>\n",
       "    <tr>\n",
       "      <th>4</th>\n",
       "      <td>2022-03-15 10:24:00</td>\n",
       "      <td>DEPOSIT-CHECK-9806</td>\n",
       "      <td>NaN</td>\n",
       "      <td>NaN</td>\n",
       "      <td>NaN</td>\n",
       "      <td>NaN</td>\n",
       "      <td>NaN</td>\n",
       "      <td>JPMC-CLIENT-9789</td>\n",
       "      <td>ACCOUNT-9800</td>\n",
       "      <td>USA</td>\n",
       "      <td>786.78</td>\n",
       "      <td>0</td>\n",
       "      <td>DEPOSIT-CHECK</td>\n",
       "    </tr>\n",
       "    <tr>\n",
       "      <th>...</th>\n",
       "      <td>...</td>\n",
       "      <td>...</td>\n",
       "      <td>...</td>\n",
       "      <td>...</td>\n",
       "      <td>...</td>\n",
       "      <td>...</td>\n",
       "      <td>...</td>\n",
       "      <td>...</td>\n",
       "      <td>...</td>\n",
       "      <td>...</td>\n",
       "      <td>...</td>\n",
       "      <td>...</td>\n",
       "      <td>...</td>\n",
       "    </tr>\n",
       "    <tr>\n",
       "      <th>1498172</th>\n",
       "      <td>2054-09-14 13:17:24</td>\n",
       "      <td>PAY-BILL-2180018</td>\n",
       "      <td>JPMC-CLIENT-2179746</td>\n",
       "      <td>ACCOUNT-2179757</td>\n",
       "      <td>USA</td>\n",
       "      <td>24701.0</td>\n",
       "      <td>CCB</td>\n",
       "      <td>BILL-COMPANY-2179895</td>\n",
       "      <td>ACCOUNT-2179896</td>\n",
       "      <td>USA</td>\n",
       "      <td>159.64</td>\n",
       "      <td>0</td>\n",
       "      <td>MAKE-PAYMENT</td>\n",
       "    </tr>\n",
       "    <tr>\n",
       "      <th>1498173</th>\n",
       "      <td>2054-09-15 00:57:24</td>\n",
       "      <td>QUICK-PAYMENT-2181421</td>\n",
       "      <td>JPMC-CLIENT-2181147</td>\n",
       "      <td>ACCOUNT-2181158</td>\n",
       "      <td>USA</td>\n",
       "      <td>4953.0</td>\n",
       "      <td>CCB</td>\n",
       "      <td>CLIENT-2181279</td>\n",
       "      <td>ACCOUNT-2181280</td>\n",
       "      <td>USA</td>\n",
       "      <td>120.07</td>\n",
       "      <td>0</td>\n",
       "      <td>QUICK-PAYMENT</td>\n",
       "    </tr>\n",
       "    <tr>\n",
       "      <th>1498174</th>\n",
       "      <td>2054-09-15 01:17:24</td>\n",
       "      <td>PAYMENT-2180021</td>\n",
       "      <td>JPMC-CLIENT-2179746</td>\n",
       "      <td>ACCOUNT-2179757</td>\n",
       "      <td>USA</td>\n",
       "      <td>34784.0</td>\n",
       "      <td>CCB</td>\n",
       "      <td>BILL-COMPANY-2180022</td>\n",
       "      <td>ACCOUNT-2180023</td>\n",
       "      <td>USA</td>\n",
       "      <td>25.32</td>\n",
       "      <td>0</td>\n",
       "      <td>MAKE-PAYMENT</td>\n",
       "    </tr>\n",
       "    <tr>\n",
       "      <th>1498175</th>\n",
       "      <td>2054-09-15 12:57:24</td>\n",
       "      <td>QUICK-PAYMENT-2181422</td>\n",
       "      <td>JPMC-CLIENT-2181147</td>\n",
       "      <td>ACCOUNT-2181158</td>\n",
       "      <td>USA</td>\n",
       "      <td>23822.0</td>\n",
       "      <td>CCB</td>\n",
       "      <td>CLIENT-2181279</td>\n",
       "      <td>ACCOUNT-2181280</td>\n",
       "      <td>USA</td>\n",
       "      <td>610.91</td>\n",
       "      <td>0</td>\n",
       "      <td>QUICK-PAYMENT</td>\n",
       "    </tr>\n",
       "    <tr>\n",
       "      <th>1498176</th>\n",
       "      <td>2054-09-15 13:07:24</td>\n",
       "      <td>QUICK-PAYMENT-2181423</td>\n",
       "      <td>JPMC-CLIENT-2181147</td>\n",
       "      <td>ACCOUNT-2181158</td>\n",
       "      <td>USA</td>\n",
       "      <td>15499.0</td>\n",
       "      <td>CCB</td>\n",
       "      <td>CLIENT-2181166</td>\n",
       "      <td>ACCOUNT-2181167</td>\n",
       "      <td>USA</td>\n",
       "      <td>688.51</td>\n",
       "      <td>0</td>\n",
       "      <td>QUICK-PAYMENT</td>\n",
       "    </tr>\n",
       "  </tbody>\n",
       "</table>\n",
       "<p>1498177 rows × 13 columns</p>\n",
       "</div>"
      ],
      "text/plain": [
       "                   Time_step         Transaction_Id            Sender_Id  \\\n",
       "0        2022-03-15 10:24:00         EXCHANGE-10115    JPMC-CLIENT-10098   \n",
       "1        2022-03-15 10:24:00    QUICK-PAYMENT-10116    JPMC-CLIENT-10098   \n",
       "2        2022-03-15 10:24:00      DEPOSIT-CASH-9833                  NaN   \n",
       "3        2022-03-15 10:24:00         PAY-CHECK-9832     JPMC-CLIENT-9812   \n",
       "4        2022-03-15 10:24:00     DEPOSIT-CHECK-9806                  NaN   \n",
       "...                      ...                    ...                  ...   \n",
       "1498172  2054-09-14 13:17:24       PAY-BILL-2180018  JPMC-CLIENT-2179746   \n",
       "1498173  2054-09-15 00:57:24  QUICK-PAYMENT-2181421  JPMC-CLIENT-2181147   \n",
       "1498174  2054-09-15 01:17:24        PAYMENT-2180021  JPMC-CLIENT-2179746   \n",
       "1498175  2054-09-15 12:57:24  QUICK-PAYMENT-2181422  JPMC-CLIENT-2181147   \n",
       "1498176  2054-09-15 13:07:24  QUICK-PAYMENT-2181423  JPMC-CLIENT-2181147   \n",
       "\n",
       "          Sender_Account Sender_Country  Sender_Sector Sender_lob  \\\n",
       "0          ACCOUNT-10108            USA        35537.0        CCB   \n",
       "1          ACCOUNT-10109            USA        15287.0        CCB   \n",
       "2                    NaN            NaN            NaN        NaN   \n",
       "3           ACCOUNT-9825            USA        38145.0        CCB   \n",
       "4                    NaN            NaN            NaN        NaN   \n",
       "...                  ...            ...            ...        ...   \n",
       "1498172  ACCOUNT-2179757            USA        24701.0        CCB   \n",
       "1498173  ACCOUNT-2181158            USA         4953.0        CCB   \n",
       "1498174  ACCOUNT-2179757            USA        34784.0        CCB   \n",
       "1498175  ACCOUNT-2181158            USA        23822.0        CCB   \n",
       "1498176  ACCOUNT-2181158            USA        15499.0        CCB   \n",
       "\n",
       "                      Bene_Id     Bene_Account Bene_Country  USD_amount  \\\n",
       "0                         NaN              NaN          NaN      558.43   \n",
       "1                CLIENT-10100    ACCOUNT-10106       CANADA      622.78   \n",
       "2            JPMC-CLIENT-9812     ACCOUNT-9826          USA      802.54   \n",
       "3            JPMC-CLIENT-9814     ACCOUNT-9824          USA      989.09   \n",
       "4            JPMC-CLIENT-9789     ACCOUNT-9800          USA      786.78   \n",
       "...                       ...              ...          ...         ...   \n",
       "1498172  BILL-COMPANY-2179895  ACCOUNT-2179896          USA      159.64   \n",
       "1498173        CLIENT-2181279  ACCOUNT-2181280          USA      120.07   \n",
       "1498174  BILL-COMPANY-2180022  ACCOUNT-2180023          USA       25.32   \n",
       "1498175        CLIENT-2181279  ACCOUNT-2181280          USA      610.91   \n",
       "1498176        CLIENT-2181166  ACCOUNT-2181167          USA      688.51   \n",
       "\n",
       "         Label Transaction_Type  \n",
       "0            0       WITHDRAWAL  \n",
       "1            0    QUICK-PAYMENT  \n",
       "2            0     DEPOSIT-CASH  \n",
       "3            0        PAY-CHECK  \n",
       "4            0    DEPOSIT-CHECK  \n",
       "...        ...              ...  \n",
       "1498172      0     MAKE-PAYMENT  \n",
       "1498173      0    QUICK-PAYMENT  \n",
       "1498174      0     MAKE-PAYMENT  \n",
       "1498175      0    QUICK-PAYMENT  \n",
       "1498176      0    QUICK-PAYMENT  \n",
       "\n",
       "[1498177 rows x 13 columns]"
      ]
     },
     "execution_count": 3,
     "metadata": {},
     "output_type": "execute_result"
    }
   ],
   "source": [
    "jp_df"
   ]
  },
  {
   "cell_type": "code",
   "execution_count": 74,
   "id": "1255df5b",
   "metadata": {},
   "outputs": [
    {
     "data": {
      "text/plain": [
       "count    1.498177e+06\n",
       "mean     5.134698e+02\n",
       "std      5.398089e+02\n",
       "min      0.000000e+00\n",
       "25%      1.386900e+02\n",
       "50%      4.041600e+02\n",
       "75%      7.340700e+02\n",
       "max      1.999894e+04\n",
       "Name: USD_amount, dtype: float64"
      ]
     },
     "execution_count": 74,
     "metadata": {},
     "output_type": "execute_result"
    }
   ],
   "source": [
    "#statistic summary for numerical variable\n",
    "jp_df[\"USD_amount\"].describe()\n"
   ]
  },
  {
   "cell_type": "code",
   "execution_count": 77,
   "id": "ba11ade5",
   "metadata": {},
   "outputs": [
    {
     "data": {
      "text/html": [
       "<div>\n",
       "<style scoped>\n",
       "    .dataframe tbody tr th:only-of-type {\n",
       "        vertical-align: middle;\n",
       "    }\n",
       "\n",
       "    .dataframe tbody tr th {\n",
       "        vertical-align: top;\n",
       "    }\n",
       "\n",
       "    .dataframe thead th {\n",
       "        text-align: right;\n",
       "    }\n",
       "</style>\n",
       "<table border=\"1\" class=\"dataframe\">\n",
       "  <thead>\n",
       "    <tr style=\"text-align: right;\">\n",
       "      <th></th>\n",
       "      <th>Transaction_Id</th>\n",
       "      <th>Sender_Id</th>\n",
       "      <th>Sender_Account</th>\n",
       "      <th>Sender_Country</th>\n",
       "      <th>Bene_Id</th>\n",
       "      <th>Bene_Account</th>\n",
       "      <th>Bene_Country</th>\n",
       "      <th>Transaction_Type</th>\n",
       "    </tr>\n",
       "  </thead>\n",
       "  <tbody>\n",
       "    <tr>\n",
       "      <th>count</th>\n",
       "      <td>1498177</td>\n",
       "      <td>1279291</td>\n",
       "      <td>1279291</td>\n",
       "      <td>1279291</td>\n",
       "      <td>1282284</td>\n",
       "      <td>1282284</td>\n",
       "      <td>1282284</td>\n",
       "      <td>1498177</td>\n",
       "    </tr>\n",
       "    <tr>\n",
       "      <th>unique</th>\n",
       "      <td>1498177</td>\n",
       "      <td>59071</td>\n",
       "      <td>75161</td>\n",
       "      <td>252</td>\n",
       "      <td>279357</td>\n",
       "      <td>295031</td>\n",
       "      <td>252</td>\n",
       "      <td>8</td>\n",
       "    </tr>\n",
       "    <tr>\n",
       "      <th>top</th>\n",
       "      <td>DEPOSIT-CASH-1317086</td>\n",
       "      <td>JPMC-CLIENT-1730807</td>\n",
       "      <td>ACCOUNT-1591424</td>\n",
       "      <td>USA</td>\n",
       "      <td>JPMC-CLIENT-1119942</td>\n",
       "      <td>ACCOUNT-1029621</td>\n",
       "      <td>USA</td>\n",
       "      <td>MAKE-PAYMENT</td>\n",
       "    </tr>\n",
       "    <tr>\n",
       "      <th>freq</th>\n",
       "      <td>1</td>\n",
       "      <td>157</td>\n",
       "      <td>99</td>\n",
       "      <td>997236</td>\n",
       "      <td>80</td>\n",
       "      <td>61</td>\n",
       "      <td>757908</td>\n",
       "      <td>557735</td>\n",
       "    </tr>\n",
       "  </tbody>\n",
       "</table>\n",
       "</div>"
      ],
      "text/plain": [
       "              Transaction_Id            Sender_Id   Sender_Account  \\\n",
       "count                1498177              1279291          1279291   \n",
       "unique               1498177                59071            75161   \n",
       "top     DEPOSIT-CASH-1317086  JPMC-CLIENT-1730807  ACCOUNT-1591424   \n",
       "freq                       1                  157               99   \n",
       "\n",
       "       Sender_Country              Bene_Id     Bene_Account Bene_Country  \\\n",
       "count         1279291              1282284          1282284      1282284   \n",
       "unique            252               279357           295031          252   \n",
       "top               USA  JPMC-CLIENT-1119942  ACCOUNT-1029621          USA   \n",
       "freq           997236                   80               61       757908   \n",
       "\n",
       "       Transaction_Type  \n",
       "count           1498177  \n",
       "unique                8  \n",
       "top        MAKE-PAYMENT  \n",
       "freq             557735  "
      ]
     },
     "execution_count": 77,
     "metadata": {},
     "output_type": "execute_result"
    }
   ],
   "source": [
    "# statistic summary for category variables.\n",
    "jp_df.loc[:,~jp_df.columns.isin(['Time_step','USD_amount','Label','Sender_lob','Sender_Sector'])].describe(include = \"all\")"
   ]
  },
  {
   "cell_type": "code",
   "execution_count": 3,
   "id": "2a7d7e04",
   "metadata": {},
   "outputs": [
    {
     "data": {
      "text/plain": [
       "CCB    1279291\n",
       "NaN     218886\n",
       "Name: Sender_lob, dtype: int64"
      ]
     },
     "execution_count": 3,
     "metadata": {},
     "output_type": "execute_result"
    }
   ],
   "source": [
    "jp_df.Sender_lob.value_counts(dropna=False)"
   ]
  },
  {
   "cell_type": "markdown",
   "id": "2bc7702f",
   "metadata": {},
   "source": [
    "###     1.1. Count the number of fraud and non-fraud labels in datatset"
   ]
  },
  {
   "cell_type": "code",
   "execution_count": 78,
   "id": "62833a87",
   "metadata": {},
   "outputs": [
    {
     "data": {
      "text/plain": [
       "<BarContainer object of 2 artists>"
      ]
     },
     "execution_count": 78,
     "metadata": {},
     "output_type": "execute_result"
    },
    {
     "data": {
      "image/png": "[encoded data removed]",
      "text/plain": [
       "<Figure size 1000x700 with 1 Axes>"
      ]
     },
     "metadata": {},
     "output_type": "display_data"
    }
   ],
   "source": [
    "figure = plt.figure(figsize=(10,7))\n",
    "\n",
    "plt.bar(['0','1'], jp_df['Label'].value_counts().values\n",
    ")\n"
   ]
  },
  {
   "cell_type": "markdown",
   "id": "288763a5",
   "metadata": {},
   "source": [
    "Figure 1. Labels "
   ]
  },
  {
   "cell_type": "code",
   "execution_count": 10,
   "id": "b9f04a05",
   "metadata": {},
   "outputs": [
    {
     "data": {
      "text/plain": [
       "0    1467358\n",
       "1      30819\n",
       "Name: Label, dtype: int64"
      ]
     },
     "execution_count": 10,
     "metadata": {},
     "output_type": "execute_result"
    }
   ],
   "source": [
    "jp_df['Label'].value_counts()\n"
   ]
  },
  {
   "cell_type": "markdown",
   "id": "186a016d",
   "metadata": {},
   "source": [
    "There are 1,467,358 transactions labeled as Non-Fraud and 30,819 labeled as fraud\n"
   ]
  },
  {
   "cell_type": "markdown",
   "id": "f9711d8a",
   "metadata": {},
   "source": [
    "### 1.2. Explore and Handle the missing values"
   ]
  },
  {
   "cell_type": "code",
   "execution_count": 11,
   "id": "6b442434",
   "metadata": {},
   "outputs": [
    {
     "data": {
      "text/plain": [
       "Time_step                0\n",
       "Transaction_Id           0\n",
       "Sender_Id           218886\n",
       "Sender_Account      218886\n",
       "Sender_Country      218886\n",
       "Sender_Sector       218886\n",
       "Sender_lob          218886\n",
       "Bene_Id             215893\n",
       "Bene_Account        215893\n",
       "Bene_Country        215893\n",
       "USD_amount               0\n",
       "Label                    0\n",
       "Transaction_Type         0\n",
       "dtype: int64"
      ]
     },
     "execution_count": 11,
     "metadata": {},
     "output_type": "execute_result"
    }
   ],
   "source": [
    "jp_df.isnull().sum()"
   ]
  },
  {
   "cell_type": "code",
   "execution_count": 12,
   "id": "57157f99",
   "metadata": {},
   "outputs": [],
   "source": [
    "# There are 218886 missing values at columns Sender_Id, Sender_Account, Sender_Country, Sender_Sector and Sender_lob\n",
    "# There are 215893 missing values at columns Bene_Id, Bene_Account, Bene_Country"
   ]
  },
  {
   "cell_type": "markdown",
   "id": "c0dc6d80",
   "metadata": {},
   "source": [
    "            Missing Values for each column"
   ]
  },
  {
   "cell_type": "code",
   "execution_count": 13,
   "id": "068dd791",
   "metadata": {},
   "outputs": [],
   "source": [
    "#b. Explore the missing values in JPmorgan dataset\n",
    "#sns.heatmap(jp_df.isna().transpose(),\n",
    "            #cmap=\"YlGnBu\",\n",
    "            #cbar_kws={'label': 'Missing Data'})"
   ]
  },
  {
   "cell_type": "markdown",
   "id": "6ad4423d",
   "metadata": {},
   "source": [
    "                    Figure 2. Missing Values Exploration"
   ]
  },
  {
   "cell_type": "markdown",
   "id": "8ec1090b",
   "metadata": {},
   "source": [
    "Looking at the Figure 2 above, we can see that Sender_Id, Sender_Account, Sender_Country, Sender_Sector, and Sender_Job are all missing values together. We call all of this columns as Sender-related column. Also, Bene_Id, Bene_Account, and Bene_Country are all missing values together. We call these columns as a group of Bene-related column.\n",
    "\n",
    "Since they are all missing together, there might be a logical reason for this missing. We will investigate for this missing below. "
   ]
  },
  {
   "cell_type": "code",
   "execution_count": 14,
   "id": "1b32bb42",
   "metadata": {
    "scrolled": true
   },
   "outputs": [
    {
     "data": {
      "text/plain": [
       "DEPOSIT-CHECK    109477\n",
       "DEPOSIT-CASH     109409\n",
       "Name: Transaction_Type, dtype: int64"
      ]
     },
     "execution_count": 14,
     "metadata": {},
     "output_type": "execute_result"
    }
   ],
   "source": [
    "# Since all the Sender-related columns all have missing values, we only need to consider Sender_Country\n",
    "#column that would be representative for all these columns.\n",
    "jp_df[jp_df[\"Sender_Country\"].isnull()].Transaction_Type.value_counts()"
   ]
  },
  {
   "cell_type": "markdown",
   "id": "13ae4612",
   "metadata": {},
   "source": [
    "Given Sender-realted Columns have missing values, there are 109477 DEPOSIT-CHECK and 109409 DEPOSIT-CASH"
   ]
  },
  {
   "cell_type": "code",
   "execution_count": 15,
   "id": "63d0404e",
   "metadata": {},
   "outputs": [
    {
     "name": "stdout",
     "output_type": "stream",
     "text": [
      "DEPOSIT-CHECK    109477\n",
      "Name: Transaction_Type, dtype: int64\n",
      "DEPOSIT-CASH    109409\n",
      "Name: Transaction_Type, dtype: int64\n"
     ]
    }
   ],
   "source": [
    "\n",
    "print(jp_df[jp_df[\"Transaction_Type\"] == \"DEPOSIT-CHECK\"].Transaction_Type.value_counts())\n",
    "print(jp_df[jp_df[\"Transaction_Type\"] == \"DEPOSIT-CASH\"].Transaction_Type.value_counts())\n"
   ]
  },
  {
   "cell_type": "markdown",
   "id": "02589355",
   "metadata": {},
   "source": [
    "        Given the whole datasets, there are also 109477 DEPOSIT-CHECK and 109409 DEPOSIT-CASH. It means for the transaction type is either deposit check or deposit cash, we don't need the Sender-related columns because whenever a person deposite cash or check, they basically send the money for themself. \n",
    "    Therefore, for the transaction type of DEPOSIT-CHECK AND DEPOSIT-CASH, the values from the sender-related columns are same as those in the Bene-related columns.  "
   ]
  },
  {
   "cell_type": "code",
   "execution_count": 16,
   "id": "1e2a6f5d",
   "metadata": {},
   "outputs": [
    {
     "data": {
      "text/plain": [
       "EXCHANGE      108167\n",
       "WITHDRAWAL    107726\n",
       "Name: Transaction_Type, dtype: int64"
      ]
     },
     "execution_count": 16,
     "metadata": {},
     "output_type": "execute_result"
    }
   ],
   "source": [
    "jp_df[jp_df[\"Bene_Country\"].isnull()].Transaction_Type.value_counts()\n"
   ]
  },
  {
   "cell_type": "markdown",
   "id": "c6971966",
   "metadata": {},
   "source": [
    "Given Bene-realted Columns have missing values, there are 108167 EXCHANGE and 107726 WITHDRAWAL"
   ]
  },
  {
   "cell_type": "code",
   "execution_count": 17,
   "id": "de855b9e",
   "metadata": {},
   "outputs": [
    {
     "name": "stdout",
     "output_type": "stream",
     "text": [
      "EXCHANGE    108167\n",
      "Name: Transaction_Type, dtype: int64\n",
      "WITHDRAWAL    107726\n",
      "Name: Transaction_Type, dtype: int64\n"
     ]
    }
   ],
   "source": [
    "print(jp_df[jp_df[\"Transaction_Type\"] == \"EXCHANGE\"].Transaction_Type.value_counts())\n",
    "print(jp_df[jp_df[\"Transaction_Type\"] == \"WITHDRAWAL\"].Transaction_Type.value_counts())\n"
   ]
  },
  {
   "cell_type": "markdown",
   "id": "2603b05c",
   "metadata": {},
   "source": [
    "     \n",
    "     Given the whole datasets, there are also 10816 EXCHANGE and 107726 WITHDRAWAL . It means for the transaction type that is either Withdrawal or exchange, we don't need the Sender-related columns because whenever a person withdraw or make the exchange, one does it for themself. \n",
    "     \n",
    "     Therefore, for the transaction type of EXCHANGE AND WITHDRAWAL, the values from the Bene-related columns are same as those in the Sender-related columns\n"
   ]
  },
  {
   "cell_type": "markdown",
   "id": "547beb45",
   "metadata": {},
   "source": [
    "    In conclusion, for the trsaction type of exchange and withdrawal, the missing values in the Sender-related columns are replaced with the same values of the same rows at Bene-related columns. And for the transaction type of DEPOSIT-CHECK and DEPOSIT-CASH, the missing values in the Bene-related columns are replaced with the same values in its same rows at the Sender-related columns."
   ]
  },
  {
   "cell_type": "markdown",
   "id": "46f8c51c",
   "metadata": {},
   "source": [
    "### 1.2.1.Replace missing values for Sender_Id and Sender_country columns"
   ]
  },
  {
   "cell_type": "code",
   "execution_count": 4,
   "id": "d786815d",
   "metadata": {},
   "outputs": [],
   "source": [
    "#create a copy of dataframe and replace the Missing values with other values on this copy \n",
    "jp_df_copy1 = jp_df.copy()"
   ]
  },
  {
   "cell_type": "code",
   "execution_count": 5,
   "id": "0f16730d",
   "metadata": {},
   "outputs": [
    {
     "data": {
      "text/html": [
       "<div>\n",
       "<style scoped>\n",
       "    .dataframe tbody tr th:only-of-type {\n",
       "        vertical-align: middle;\n",
       "    }\n",
       "\n",
       "    .dataframe tbody tr th {\n",
       "        vertical-align: top;\n",
       "    }\n",
       "\n",
       "    .dataframe thead th {\n",
       "        text-align: right;\n",
       "    }\n",
       "</style>\n",
       "<table border=\"1\" class=\"dataframe\">\n",
       "  <thead>\n",
       "    <tr style=\"text-align: right;\">\n",
       "      <th></th>\n",
       "      <th>Sender_Id</th>\n",
       "    </tr>\n",
       "  </thead>\n",
       "  <tbody>\n",
       "  </tbody>\n",
       "</table>\n",
       "</div>"
      ],
      "text/plain": [
       "Empty DataFrame\n",
       "Columns: [Sender_Id]\n",
       "Index: []"
      ]
     },
     "execution_count": 5,
     "metadata": {},
     "output_type": "execute_result"
    }
   ],
   "source": [
    "#replace the missing values of sender_id with values of Bene_id in the same row \n",
    "# and add the word \"self\" to our value to indicate the transaction is oneself\n",
    "beneIdvalues = jp_df[jp_df[\"Sender_Id\"].isnull()].Bene_Id + \"-\" + \"self\"\n",
    "jp_df_copy1.loc[jp_df[\"Sender_Id\"].isnull(),[\"Sender_Id\"]] = beneIdvalues\n",
    "jp_df_copy1.loc[jp_df_copy1[\"Sender_Id\"].isnull(),[\"Sender_Id\"]]\n"
   ]
  },
  {
   "cell_type": "code",
   "execution_count": 6,
   "id": "8880f5cd",
   "metadata": {},
   "outputs": [
    {
     "data": {
      "text/html": [
       "<div>\n",
       "<style scoped>\n",
       "    .dataframe tbody tr th:only-of-type {\n",
       "        vertical-align: middle;\n",
       "    }\n",
       "\n",
       "    .dataframe tbody tr th {\n",
       "        vertical-align: top;\n",
       "    }\n",
       "\n",
       "    .dataframe thead th {\n",
       "        text-align: right;\n",
       "    }\n",
       "</style>\n",
       "<table border=\"1\" class=\"dataframe\">\n",
       "  <thead>\n",
       "    <tr style=\"text-align: right;\">\n",
       "      <th></th>\n",
       "      <th>Sender_Country</th>\n",
       "    </tr>\n",
       "  </thead>\n",
       "  <tbody>\n",
       "  </tbody>\n",
       "</table>\n",
       "</div>"
      ],
      "text/plain": [
       "Empty DataFrame\n",
       "Columns: [Sender_Country]\n",
       "Index: []"
      ]
     },
     "execution_count": 6,
     "metadata": {},
     "output_type": "execute_result"
    }
   ],
   "source": [
    "#replace the missing values of sender_country with values of Bene_country in the same row\n",
    "#  and add the word \"self\" to our value to indicate the transaction is oneself\n",
    "bene_country_values = jp_df[jp_df[\"Sender_Country\"].isnull()].Bene_Country + \"-\" +\"self\"\n",
    "jp_df_copy1.loc[jp_df[\"Sender_Country\"].isnull(),[\"Sender_Country\"]] = bene_country_values\n",
    "jp_df_copy1.loc[jp_df_copy1[\"Sender_Country\"].isnull(),[\"Sender_Country\"]]"
   ]
  },
  {
   "cell_type": "markdown",
   "id": "23217dc8",
   "metadata": {},
   "source": [
    "### 1.2.2. Replace missing values for Bene_Id and Bene_Country columns"
   ]
  },
  {
   "cell_type": "code",
   "execution_count": 7,
   "id": "e32a8a1c",
   "metadata": {},
   "outputs": [
    {
     "data": {
      "text/html": [
       "<div>\n",
       "<style scoped>\n",
       "    .dataframe tbody tr th:only-of-type {\n",
       "        vertical-align: middle;\n",
       "    }\n",
       "\n",
       "    .dataframe tbody tr th {\n",
       "        vertical-align: top;\n",
       "    }\n",
       "\n",
       "    .dataframe thead th {\n",
       "        text-align: right;\n",
       "    }\n",
       "</style>\n",
       "<table border=\"1\" class=\"dataframe\">\n",
       "  <thead>\n",
       "    <tr style=\"text-align: right;\">\n",
       "      <th></th>\n",
       "      <th>Bene_Id</th>\n",
       "    </tr>\n",
       "  </thead>\n",
       "  <tbody>\n",
       "  </tbody>\n",
       "</table>\n",
       "</div>"
      ],
      "text/plain": [
       "Empty DataFrame\n",
       "Columns: [Bene_Id]\n",
       "Index: []"
      ]
     },
     "execution_count": 7,
     "metadata": {},
     "output_type": "execute_result"
    }
   ],
   "source": [
    "#replace the missing values of bene_id with values of sender_id in the same row\n",
    "#  and add the word \"self\" to our value to indicate the transaction is oneself\n",
    "senderIdvalues = jp_df[jp_df[\"Bene_Id\"].isnull()].Sender_Id + \"-\" + \"self\"\n",
    "jp_df_copy1.loc[jp_df[\"Bene_Id\"].isnull(),[\"Bene_Id\"]] = senderIdvalues \n",
    "jp_df_copy1.loc[jp_df_copy1[\"Bene_Id\"].isnull(),[\"Bene_Id\"]]"
   ]
  },
  {
   "cell_type": "code",
   "execution_count": 8,
   "id": "6132ac86",
   "metadata": {},
   "outputs": [
    {
     "data": {
      "text/html": [
       "<div>\n",
       "<style scoped>\n",
       "    .dataframe tbody tr th:only-of-type {\n",
       "        vertical-align: middle;\n",
       "    }\n",
       "\n",
       "    .dataframe tbody tr th {\n",
       "        vertical-align: top;\n",
       "    }\n",
       "\n",
       "    .dataframe thead th {\n",
       "        text-align: right;\n",
       "    }\n",
       "</style>\n",
       "<table border=\"1\" class=\"dataframe\">\n",
       "  <thead>\n",
       "    <tr style=\"text-align: right;\">\n",
       "      <th></th>\n",
       "      <th>Bene_Country</th>\n",
       "    </tr>\n",
       "  </thead>\n",
       "  <tbody>\n",
       "  </tbody>\n",
       "</table>\n",
       "</div>"
      ],
      "text/plain": [
       "Empty DataFrame\n",
       "Columns: [Bene_Country]\n",
       "Index: []"
      ]
     },
     "execution_count": 8,
     "metadata": {},
     "output_type": "execute_result"
    }
   ],
   "source": [
    "#replace the missing values of Bene_country with values of Sender_country in the same row\n",
    "#  and add the word \"self\" to our value to indicate the transaction is oneself\n",
    "sender_country_values = jp_df[jp_df[\"Bene_Country\"].isnull()].Sender_Country + \"-\" + \"self\"\n",
    "jp_df_copy1.loc[jp_df[\"Bene_Country\"].isnull(),[\"Bene_Country\"]] = sender_country_values\n",
    "\n",
    "jp_df_copy1.loc[jp_df_copy1[\"Bene_Country\"].isnull(),[\"Bene_Country\"]]"
   ]
  },
  {
   "cell_type": "code",
   "execution_count": 9,
   "id": "25d31f28",
   "metadata": {},
   "outputs": [],
   "source": [
    "# we want to make sure both bene-related columns and sender-related columns at transaction type of DEPOSIT CASH, DEPOSIT CHECK, EXCHANGE and WITHDRAW HAVE THE SAME VALUES\n",
    "jp_df_copy1.loc[jp_df[\"Sender_Id\"].isnull(),[\"Bene_Id\"]] = beneIdvalues\n",
    "jp_df_copy1.loc[jp_df[\"Sender_Country\"].isnull(),[\"Bene_Country\"]] = bene_country_values\n",
    "jp_df_copy1.loc[jp_df[\"Bene_Id\"].isnull(),[\"Sender_Id\"]] = senderIdvalues\n",
    "jp_df_copy1.loc[jp_df[\"Bene_Country\"].isnull(),[\"Sender_Country\"]] = sender_country_values"
   ]
  },
  {
   "cell_type": "code",
   "execution_count": 9,
   "id": "2b1f4108",
   "metadata": {},
   "outputs": [
    {
     "data": {
      "text/html": [
       "<div>\n",
       "<style scoped>\n",
       "    .dataframe tbody tr th:only-of-type {\n",
       "        vertical-align: middle;\n",
       "    }\n",
       "\n",
       "    .dataframe tbody tr th {\n",
       "        vertical-align: top;\n",
       "    }\n",
       "\n",
       "    .dataframe thead th {\n",
       "        text-align: right;\n",
       "    }\n",
       "</style>\n",
       "<table border=\"1\" class=\"dataframe\">\n",
       "  <thead>\n",
       "    <tr style=\"text-align: right;\">\n",
       "      <th></th>\n",
       "      <th>Time_step</th>\n",
       "      <th>Transaction_Id</th>\n",
       "      <th>Sender_Id</th>\n",
       "      <th>Sender_Account</th>\n",
       "      <th>Sender_Country</th>\n",
       "      <th>Sender_Sector</th>\n",
       "      <th>Sender_lob</th>\n",
       "      <th>Bene_Id</th>\n",
       "      <th>Bene_Account</th>\n",
       "      <th>Bene_Country</th>\n",
       "      <th>USD_amount</th>\n",
       "      <th>Label</th>\n",
       "      <th>Transaction_Type</th>\n",
       "    </tr>\n",
       "  </thead>\n",
       "  <tbody>\n",
       "    <tr>\n",
       "      <th>0</th>\n",
       "      <td>2022-03-15 10:24:00</td>\n",
       "      <td>EXCHANGE-10115</td>\n",
       "      <td>JPMC-CLIENT-10098-self</td>\n",
       "      <td>ACCOUNT-10108</td>\n",
       "      <td>USA-self</td>\n",
       "      <td>35537.0</td>\n",
       "      <td>CCB</td>\n",
       "      <td>JPMC-CLIENT-10098-self</td>\n",
       "      <td>NaN</td>\n",
       "      <td>USA-self</td>\n",
       "      <td>558.43</td>\n",
       "      <td>0</td>\n",
       "      <td>WITHDRAWAL</td>\n",
       "    </tr>\n",
       "    <tr>\n",
       "      <th>1</th>\n",
       "      <td>2022-03-15 10:24:00</td>\n",
       "      <td>QUICK-PAYMENT-10116</td>\n",
       "      <td>JPMC-CLIENT-10098</td>\n",
       "      <td>ACCOUNT-10109</td>\n",
       "      <td>USA</td>\n",
       "      <td>15287.0</td>\n",
       "      <td>CCB</td>\n",
       "      <td>CLIENT-10100</td>\n",
       "      <td>ACCOUNT-10106</td>\n",
       "      <td>CANADA</td>\n",
       "      <td>622.78</td>\n",
       "      <td>0</td>\n",
       "      <td>QUICK-PAYMENT</td>\n",
       "    </tr>\n",
       "    <tr>\n",
       "      <th>2</th>\n",
       "      <td>2022-03-15 10:24:00</td>\n",
       "      <td>DEPOSIT-CASH-9833</td>\n",
       "      <td>JPMC-CLIENT-9812-self</td>\n",
       "      <td>NaN</td>\n",
       "      <td>USA-self</td>\n",
       "      <td>NaN</td>\n",
       "      <td>NaN</td>\n",
       "      <td>JPMC-CLIENT-9812-self</td>\n",
       "      <td>ACCOUNT-9826</td>\n",
       "      <td>USA-self</td>\n",
       "      <td>802.54</td>\n",
       "      <td>0</td>\n",
       "      <td>DEPOSIT-CASH</td>\n",
       "    </tr>\n",
       "    <tr>\n",
       "      <th>3</th>\n",
       "      <td>2022-03-15 10:24:00</td>\n",
       "      <td>PAY-CHECK-9832</td>\n",
       "      <td>JPMC-CLIENT-9812</td>\n",
       "      <td>ACCOUNT-9825</td>\n",
       "      <td>USA</td>\n",
       "      <td>38145.0</td>\n",
       "      <td>CCB</td>\n",
       "      <td>JPMC-CLIENT-9814</td>\n",
       "      <td>ACCOUNT-9824</td>\n",
       "      <td>USA</td>\n",
       "      <td>989.09</td>\n",
       "      <td>0</td>\n",
       "      <td>PAY-CHECK</td>\n",
       "    </tr>\n",
       "    <tr>\n",
       "      <th>4</th>\n",
       "      <td>2022-03-15 10:24:00</td>\n",
       "      <td>DEPOSIT-CHECK-9806</td>\n",
       "      <td>JPMC-CLIENT-9789-self</td>\n",
       "      <td>NaN</td>\n",
       "      <td>USA-self</td>\n",
       "      <td>NaN</td>\n",
       "      <td>NaN</td>\n",
       "      <td>JPMC-CLIENT-9789-self</td>\n",
       "      <td>ACCOUNT-9800</td>\n",
       "      <td>USA-self</td>\n",
       "      <td>786.78</td>\n",
       "      <td>0</td>\n",
       "      <td>DEPOSIT-CHECK</td>\n",
       "    </tr>\n",
       "  </tbody>\n",
       "</table>\n",
       "</div>"
      ],
      "text/plain": [
       "             Time_step       Transaction_Id               Sender_Id  \\\n",
       "0  2022-03-15 10:24:00       EXCHANGE-10115  JPMC-CLIENT-10098-self   \n",
       "1  2022-03-15 10:24:00  QUICK-PAYMENT-10116       JPMC-CLIENT-10098   \n",
       "2  2022-03-15 10:24:00    DEPOSIT-CASH-9833   JPMC-CLIENT-9812-self   \n",
       "3  2022-03-15 10:24:00       PAY-CHECK-9832        JPMC-CLIENT-9812   \n",
       "4  2022-03-15 10:24:00   DEPOSIT-CHECK-9806   JPMC-CLIENT-9789-self   \n",
       "\n",
       "  Sender_Account Sender_Country  Sender_Sector Sender_lob  \\\n",
       "0  ACCOUNT-10108       USA-self        35537.0        CCB   \n",
       "1  ACCOUNT-10109            USA        15287.0        CCB   \n",
       "2            NaN       USA-self            NaN        NaN   \n",
       "3   ACCOUNT-9825            USA        38145.0        CCB   \n",
       "4            NaN       USA-self            NaN        NaN   \n",
       "\n",
       "                  Bene_Id   Bene_Account Bene_Country  USD_amount  Label  \\\n",
       "0  JPMC-CLIENT-10098-self            NaN     USA-self      558.43      0   \n",
       "1            CLIENT-10100  ACCOUNT-10106       CANADA      622.78      0   \n",
       "2   JPMC-CLIENT-9812-self   ACCOUNT-9826     USA-self      802.54      0   \n",
       "3        JPMC-CLIENT-9814   ACCOUNT-9824          USA      989.09      0   \n",
       "4   JPMC-CLIENT-9789-self   ACCOUNT-9800     USA-self      786.78      0   \n",
       "\n",
       "  Transaction_Type  \n",
       "0       WITHDRAWAL  \n",
       "1    QUICK-PAYMENT  \n",
       "2     DEPOSIT-CASH  \n",
       "3        PAY-CHECK  \n",
       "4    DEPOSIT-CHECK  "
      ]
     },
     "execution_count": 9,
     "metadata": {},
     "output_type": "execute_result"
    }
   ],
   "source": [
    "jp_df_copy1.head()"
   ]
  },
  {
   "cell_type": "code",
   "execution_count": 10,
   "id": "7c9ae1fb",
   "metadata": {},
   "outputs": [
    {
     "data": {
      "text/plain": [
       "Time_step                0\n",
       "Transaction_Id           0\n",
       "Sender_Id                0\n",
       "Sender_Account      218886\n",
       "Sender_Country           0\n",
       "Sender_Sector       218886\n",
       "Sender_lob          218886\n",
       "Bene_Id                  0\n",
       "Bene_Account        215893\n",
       "Bene_Country             0\n",
       "USD_amount               0\n",
       "Label                    0\n",
       "Transaction_Type         0\n",
       "dtype: int64"
      ]
     },
     "execution_count": 10,
     "metadata": {},
     "output_type": "execute_result"
    }
   ],
   "source": [
    "jp_df_copy1.isnull().sum()"
   ]
  },
  {
   "cell_type": "code",
   "execution_count": 10,
   "id": "013705cd",
   "metadata": {},
   "outputs": [],
   "source": [
    "def assign_countries(value, top_Country):\n",
    "    for i in top_Country:\n",
    "        if value == i:\n",
    "            return value\n",
    "        else:\n",
    "            return \"other\"\n"
   ]
  },
  {
   "cell_type": "markdown",
   "id": "3bd9d8c9",
   "metadata": {},
   "source": [
    "# 2. Exploration Data Analysis"
   ]
  },
  {
   "cell_type": "markdown",
   "id": "2362ad55",
   "metadata": {},
   "source": [
    "### 2.1 Compare the transfer amount between fraud and non-fraud"
   ]
  },
  {
   "cell_type": "code",
   "execution_count": 66,
   "id": "465757d6",
   "metadata": {},
   "outputs": [
    {
     "data": {
      "image/png": "[encoded data removed]",
      "text/plain": [
       "<Figure size 1500x500 with 2 Axes>"
      ]
     },
     "metadata": {},
     "output_type": "display_data"
    }
   ],
   "source": [
    "fig = plt.figure(figsize=(15,5))\n",
    "ax1 = fig.add_subplot(1,2,1)\n",
    "ax1.boxplot(jp_df_copy1.loc[jp_df_copy1[\"Label\"]==0,[\"USD_amount\"]])\n",
    "ax1.set_title(\"Amount of Dollar is Transfered Among Non-Fraud Transactions\")\n",
    "ax2 = fig.add_subplot(1,2,2)\n",
    "ax2.boxplot(jp_df_copy1.loc[jp_df_copy1[\"Label\"]==1,[\"USD_amount\"]])\n",
    "ax2.set_title(\"Amount of Dollar is Transfered Among Fraud Transactions\")\n",
    "plt.show()"
   ]
  },
  {
   "cell_type": "markdown",
   "id": "f43f9fb0",
   "metadata": {},
   "source": [
    "The average amount of Fraud Transtraction is higher than non-fraud one. There are many large amount transactions as outliners in fraud transaction range from $9,000 to $20,000."
   ]
  },
  {
   "cell_type": "markdown",
   "id": "0d825c44",
   "metadata": {},
   "source": [
    "## 2.2 For fraud type and nonFraud, what percentage of each Bene Country? \n",
    "\n"
   ]
  },
  {
   "cell_type": "code",
   "execution_count": 14,
   "id": "f0a2ca93",
   "metadata": {},
   "outputs": [],
   "source": [
    "fraud_by_bene_country = jp_df.loc[(jp_df[\"Label\"] == 1),[\"Bene_Country\"]].value_counts(normalize = True).to_frame()\n",
    "\n",
    "top10beneCountry_fraud = []\n",
    "for i in list(fraud_by_bene_country.head(10).index):\n",
    "    top10beneCountry_fraud.append(i[0])\n"
   ]
  },
  {
   "cell_type": "code",
   "execution_count": 15,
   "id": "c8210a10",
   "metadata": {},
   "outputs": [],
   "source": [
    "nonfraud_by_bene_country = jp_df.loc[(jp_df[\"Label\"] == 0),[\"Bene_Country\"]].value_counts(normalize = True).to_frame()\n",
    "top10beneCountry_nonfraud = []\n",
    "for i in list(nonfraud_by_bene_country.head(10).index):\n",
    "    top10beneCountry_nonfraud.append(i[0])"
   ]
  },
  {
   "cell_type": "code",
   "execution_count": 26,
   "id": "26b559b4",
   "metadata": {},
   "outputs": [
    {
     "data": {
      "image/png": "[encoded data removed]",
      "text/plain": [
       "<Figure size 1500x500 with 1 Axes>"
      ]
     },
     "metadata": {},
     "output_type": "display_data"
    }
   ],
   "source": [
    "fig1 = plt.figure(figsize=(15,5))\n",
    "plt.bar(top10beneCountry_nonfraud,nonfraud_by_bene_country.head(10)[0],color = \"green\")\n",
    "plt.title(\"Percentage of Top 10 Bene Countries among Non-Fraud Transactions\")\n",
    "plt.show()"
   ]
  },
  {
   "cell_type": "code",
   "execution_count": 30,
   "id": "f75bf0f3",
   "metadata": {},
   "outputs": [
    {
     "data": {
      "image/png": "[encoded data removed]",
      "text/plain": [
       "<Figure size 1500x500 with 1 Axes>"
      ]
     },
     "metadata": {},
     "output_type": "display_data"
    }
   ],
   "source": [
    "fig = plt.figure(figsize=(15,5))\n",
    "plt.bar(top10beneCountry_fraud,fraud_by_bene_country.head(10)[0],color =\"red\")\n",
    "plt.title(\"The Percentage of Top 10 Bene Countries Among Fraud Transactions\")\n",
    "plt.show()"
   ]
  },
  {
   "cell_type": "markdown",
   "id": "b0550178",
   "metadata": {},
   "source": [
    "Percentage of Bene Countries from USA, CANADA and BRAZIL are same in both Fraud and non-Fraud transactions. However,..........."
   ]
  },
  {
   "cell_type": "markdown",
   "id": "8087288e",
   "metadata": {},
   "source": [
    "### 2.2.1 Aggregate Two Top-10-Bene Countries from both Fraud and non-Fraud"
   ]
  },
  {
   "cell_type": "code",
   "execution_count": 16,
   "id": "75cbb8c4",
   "metadata": {},
   "outputs": [],
   "source": [
    "topbeneCountry = []\n",
    "for i in top10beneCountry_fraud:\n",
    "    if i not in topbeneCountry:\n",
    "        topbeneCountry.append(i)\n",
    "for e in top10beneCountry_nonfraud:\n",
    "    if e not in topbeneCountry:\n",
    "        topbeneCountry.append(e)"
   ]
  },
  {
   "cell_type": "code",
   "execution_count": 17,
   "id": "671cb989",
   "metadata": {},
   "outputs": [
    {
     "data": {
      "text/plain": [
       "['USA',\n",
       " 'CANADA',\n",
       " 'GERMANY',\n",
       " 'BRAZIL',\n",
       " 'SOUTH-SUDAN',\n",
       " 'MOZAMBIQUE',\n",
       " 'MOLDOVA',\n",
       " 'COCOS-KEELING-IS',\n",
       " 'MACAU',\n",
       " 'GAMBIA',\n",
       " 'CAYMAN-ISLANDS',\n",
       " 'RUSSIAN',\n",
       " 'URUGUAY',\n",
       " 'JAMAICA',\n",
       " 'BULGARIA',\n",
       " 'FRENCH-POLYNESIA']"
      ]
     },
     "execution_count": 17,
     "metadata": {},
     "output_type": "execute_result"
    }
   ],
   "source": [
    "topbeneCountry"
   ]
  },
  {
   "cell_type": "markdown",
   "id": "c4eef395",
   "metadata": {},
   "source": [
    "## 2.3 For fraud type and nonFraud, what percentage of each Sender Country? \n"
   ]
  },
  {
   "cell_type": "code",
   "execution_count": 18,
   "id": "0e4df134",
   "metadata": {},
   "outputs": [],
   "source": [
    "fraud_by_sender_country = jp_df.loc[(jp_df[\"Label\"] == 1),[\"Sender_Country\"]].value_counts(normalize = True).to_frame()\n",
    "\n",
    "top10senderCountry_fraud = []\n",
    "for i in list(fraud_by_sender_country.head(10).index):\n",
    "    top10senderCountry_fraud.append(i[0])"
   ]
  },
  {
   "cell_type": "code",
   "execution_count": 19,
   "id": "d9edd34d",
   "metadata": {},
   "outputs": [],
   "source": [
    "nonfraud_by_sender_country = jp_df.loc[(jp_df[\"Label\"] == 0),[\"Sender_Country\"]].value_counts(normalize = True).to_frame()\n",
    "\n",
    "top10senderCountry_nonfraud = []\n",
    "for i in list(nonfraud_by_sender_country.head(10).index):\n",
    "    top10senderCountry_nonfraud.append(i[0])"
   ]
  },
  {
   "cell_type": "code",
   "execution_count": 32,
   "id": "fb7c92a1",
   "metadata": {},
   "outputs": [
    {
     "data": {
      "image/png": "[encoded data removed]",
      "text/plain": [
       "<Figure size 1500x500 with 1 Axes>"
      ]
     },
     "metadata": {},
     "output_type": "display_data"
    }
   ],
   "source": [
    "fig = plt.figure(figsize=(15,5))\n",
    "plt.bar(top10senderCountry_nonfraud,nonfraud_by_sender_country.head(10)[0], color = 'green')\n",
    "plt.title(\"Top 10 Sender Countries Among Non Fraud Transactions\")\n",
    "plt.show()"
   ]
  },
  {
   "cell_type": "code",
   "execution_count": 30,
   "id": "42e8ebb3",
   "metadata": {},
   "outputs": [
    {
     "data": {
      "image/png": "[encoded data removed]",
      "text/plain": [
       "<Figure size 1500x500 with 1 Axes>"
      ]
     },
     "metadata": {},
     "output_type": "display_data"
    }
   ],
   "source": [
    "fig = plt.figure(figsize=(15,5))\n",
    "plt.bar(top10senderCountry_fraud,fraud_by_sender_country.head(10)[0], color = \"red\")\n",
    "plt.title(\"Top 10 Sender Countries Among Fraud Transactions\")\n",
    "plt.show()"
   ]
  },
  {
   "cell_type": "markdown",
   "id": "8694eea3",
   "metadata": {},
   "source": [
    "Percentage of Sender Countries from USA and CANADA are same in both Fraud and non-Fraud transactions. However,........"
   ]
  },
  {
   "cell_type": "markdown",
   "id": "6876cee8",
   "metadata": {},
   "source": [
    "### 2.3.1 Aggregate Two Top-10-Sender Countries from both Fraud and non-Fraud "
   ]
  },
  {
   "cell_type": "code",
   "execution_count": 20,
   "id": "1a2abb07",
   "metadata": {},
   "outputs": [],
   "source": [
    "topsenderCountry = []\n",
    "for i in top10senderCountry_fraud:\n",
    "    if i not in topsenderCountry:\n",
    "        topsenderCountry.append(i)\n",
    "for e in top10senderCountry_nonfraud:\n",
    "    if e not in topsenderCountry:\n",
    "        topsenderCountry.append(e)"
   ]
  },
  {
   "cell_type": "markdown",
   "id": "8b8ed711",
   "metadata": {},
   "source": [
    "## 2.4 What percentage of each transaction type for fraud and non fraud?"
   ]
  },
  {
   "cell_type": "code",
   "execution_count": 24,
   "id": "8be752fe",
   "metadata": {},
   "outputs": [
    {
     "name": "stdout",
     "output_type": "stream",
     "text": [
      "Transaction_Type\n",
      "QUICK-PAYMENT       0.257471\n",
      "MAKE-PAYMENT        0.244752\n",
      "PAY-CHECK           0.098803\n",
      "MOVE-FUNDS          0.098608\n",
      "DEPOSIT-CASH        0.089945\n",
      "WITHDRAWAL          0.084688\n",
      "EXCHANGE            0.081962\n",
      "DEPOSIT-CHECK       0.043772\n",
      "dtype: float64\n",
      "Transaction_Type\n",
      "MAKE-PAYMENT        0.374954\n",
      "QUICK-PAYMENT       0.142891\n",
      "MOVE-FUNDS          0.120738\n",
      "DEPOSIT-CHECK       0.073689\n",
      "DEPOSIT-CASH        0.072673\n",
      "EXCHANGE            0.071994\n",
      "WITHDRAWAL          0.071636\n",
      "PAY-CHECK           0.071425\n",
      "dtype: float64\n"
     ]
    }
   ],
   "source": [
    "print(jp_df.loc[jp_df['Label'] == 1,[\"Transaction_Type\"]].value_counts(normalize = True))\n",
    "print(jp_df.loc[jp_df['Label'] == 0,[\"Transaction_Type\"]].value_counts(normalize = True))"
   ]
  },
  {
   "cell_type": "code",
   "execution_count": 25,
   "id": "b1b228a3",
   "metadata": {},
   "outputs": [
    {
     "data": {
      "image/png": "[encoded data removed]",
      "text/plain": [
       "<Figure size 640x480 with 1 Axes>"
      ]
     },
     "metadata": {},
     "output_type": "display_data"
    },
    {
     "data": {
      "image/png": "[encoded data removed]",
      "text/plain": [
       "<Figure size 640x480 with 1 Axes>"
      ]
     },
     "metadata": {},
     "output_type": "display_data"
    }
   ],
   "source": [
    "jp_df.loc[jp_df['Label'] == 1,[\"Transaction_Type\"]].value_counts(normalize = True).plot.bar(color = \"red\")\n",
    "plt.title(\"Fraud Transaction Among Transaction Type\")\n",
    "plt.show()\n",
    "jp_df.loc[jp_df['Label'] == 0,[\"Transaction_Type\"]].value_counts(normalize = True).plot.bar(color = \"green\")\n",
    "plt.title(\"Non Fraud Transaction Among Transaction Type\")\n",
    "plt.show()"
   ]
  },
  {
   "cell_type": "markdown",
   "id": "8336bc8b",
   "metadata": {},
   "source": [
    "Given Fraud Transaction, the QUICK-PAYMENT (25.7%) type has the highest percent followed by MAKE-PAYMENT(24.5%) type and PAY-CHECK(10%). Given non-fraud transaction, MAKE-PAYMENT (37.%) type has the highest percent followed by QUICK-PAYMENT type(14.3%). Another standing point here is the PAY-CHECK percent among fraud transaction types has the third high, while it has the lowest among non fraud transtion. Also, the percent of QUICK-PAYMENT type among Fraud transactions is even higher than that percent in non-Fraud transactions. Therefore, we notice that most fraud transactions come from QUICK-PAYMENT, and PAY-CHECK. Even though MAKE-PAYMENT percentage in the fraud transactions is higher, it is also high in non-fraud transactions. \n"
   ]
  },
  {
   "cell_type": "code",
   "execution_count": 44,
   "id": "3a80a13d",
   "metadata": {},
   "outputs": [],
   "source": [
    "transaction_types = list(jp_df.Transaction_Type.value_counts().index.unique())"
   ]
  },
  {
   "cell_type": "code",
   "execution_count": 45,
   "id": "92801b03",
   "metadata": {},
   "outputs": [
    {
     "data": {
      "image/png": "[encoded data removed]",
      "text/plain": [
       "<Figure size 1500x600 with 8 Axes>"
      ]
     },
     "metadata": {},
     "output_type": "display_data"
    }
   ],
   "source": [
    "fig = plt.figure(figsize=(15,6))\n",
    "i = 0\n",
    "for t in transaction_types:\n",
    "    i = i + 1\n",
    "    ax = fig.add_subplot(2,4,i)\n",
    "    ax.pie(jp_df.loc[jp_df[\"Transaction_Type\"] == t,[\"Label\"]].value_counts(normalize = True).to_list(),\n",
    "           autopct='%1.2f%%', radius = 1.3, colors = [\"green\",\"red\"])\n",
    "    ax.set_title(t)\n",
    "plt.figlegend([\"Non-Fraud\",\"Fraud\"])\n",
    "fig.suptitle(\"Percentage of Fraud and Non-Fraud Transaction Among Different Transaction Types\")\n",
    "plt.show()"
   ]
  },
  {
   "cell_type": "markdown",
   "id": "945afeed",
   "metadata": {},
   "source": [
    "Given each type of transaction, the percentage of fraud in the QUICK-PAYMENT is the highest(3.65%), followed by PAY-CHECK(2.82%), and DEPOSIT-CASH (2.53%). Again, we see QUICK-PAYMENT and PAY-CHECK are one of the most commons type that give higher chance of fraud. It means given the MAKE-PAYMENT or PAY-CHECK transaction type, it is more likely fraud than other types.  "
   ]
  },
  {
   "cell_type": "markdown",
   "id": "586f8dca",
   "metadata": {},
   "source": [
    "### 2.5. Compare the Percentage of Fraud Between Transaction Occuring in-side-country and out-of-country"
   ]
  },
  {
   "cell_type": "code",
   "execution_count": 48,
   "id": "f289c499",
   "metadata": {},
   "outputs": [
    {
     "data": {
      "text/plain": [
       "Text(0.5, 1.0, 'Percentage of Fraud and non-Fraud Transactions Within Countries')"
      ]
     },
     "execution_count": 48,
     "metadata": {},
     "output_type": "execute_result"
    },
    {
     "data": {
      "image/png": "[encoded data removed]",
      "text/plain": [
       "<Figure size 640x480 with 1 Axes>"
      ]
     },
     "metadata": {},
     "output_type": "display_data"
    }
   ],
   "source": [
    "jp_df_copy1.loc[jp_df_copy1[\"Bene_Country\"] == jp_df_copy1[\"Sender_Country\"],[\"Label\"]].value_counts(normalize=True).plot.pie(autopct='%1.2f%%',colors = ['green','red',])\n",
    "plt.legend([\"Non-Fraud\",\"Fraud\"])\n",
    "plt.title(\"Percentage of Fraud and non-Fraud Transactions Within Countries\")"
   ]
  },
  {
   "cell_type": "code",
   "execution_count": 49,
   "id": "6b660c9d",
   "metadata": {},
   "outputs": [
    {
     "data": {
      "text/plain": [
       "Text(0.5, 1.0, 'Percentage of Fraud and non-Fraud Transactions Occur Between Two Different Countries')"
      ]
     },
     "execution_count": 49,
     "metadata": {},
     "output_type": "execute_result"
    },
    {
     "data": {
      "image/png": "[encoded data removed]",
      "text/plain": [
       "<Figure size 640x480 with 1 Axes>"
      ]
     },
     "metadata": {},
     "output_type": "display_data"
    }
   ],
   "source": [
    "jp_df_copy1.loc[jp_df_copy1[\"Bene_Country\"] != jp_df_copy1[\"Sender_Country\"],[\"Label\"]].value_counts(normalize=True).plot.pie(autopct='%1.2f%%',colors = ['green','red',])\n",
    "plt.legend([\"Non-Fraud\",\"Fraud\"])\n",
    "plt.title(\"Percentage of Fraud and non-Fraud Transactions Occur Between Two Different Countries\")"
   ]
  },
  {
   "cell_type": "markdown",
   "id": "077697eb",
   "metadata": {},
   "source": [
    "### 2.6 Compare the the percentage of transaction happen between two different countries, given either fraud or non-fraud  "
   ]
  },
  {
   "cell_type": "code",
   "execution_count": 21,
   "id": "7db0e57d",
   "metadata": {},
   "outputs": [
    {
     "name": "stderr",
     "output_type": "stream",
     "text": [
      "c:\\Users\\cindydao\\OneDrive - UNT System\\studying\\Fall 2022\\DSCI 4700\\Coding\\venv1\\lib\\site-packages\\ipykernel_launcher.py:4: SettingWithCopyWarning: \n",
      "A value is trying to be set on a copy of a slice from a DataFrame.\n",
      "Try using .loc[row_indexer,col_indexer] = value instead\n",
      "\n",
      "See the caveats in the documentation: https://pandas.pydata.org/pandas-docs/stable/user_guide/indexing.html#returning-a-view-versus-a-copy\n",
      "  after removing the cwd from sys.path.\n"
     ]
    }
   ],
   "source": [
    "#create new datafram named df2, which select only transaction occuring between two different countries.\n",
    "\n",
    "df2 = jp_df.loc[(jp_df['Bene_Country'] != jp_df['Sender_Country']) & jp_df['Bene_Country'].notnull() & jp_df['Sender_Country'].notnull(),:]\n",
    "df2[\"Sender_Bene_Pair\"] = df2[\"Sender_Country\"] + \"--\"+df2[\"Bene_Country\"]"
   ]
  },
  {
   "cell_type": "code",
   "execution_count": 22,
   "id": "1eda6de8",
   "metadata": {},
   "outputs": [
    {
     "data": {
      "text/plain": [
       "Text(0.5, 1.0, 'The percentage of Fraud Transactions Occur Between Two Different Countries ')"
      ]
     },
     "execution_count": 22,
     "metadata": {},
     "output_type": "execute_result"
    },
    {
     "data": {
      "image/png": "[encoded data removed]",
      "text/plain": [
       "<Figure size 640x480 with 1 Axes>"
      ]
     },
     "metadata": {},
     "output_type": "display_data"
    }
   ],
   "source": [
    "df2.loc[df2[\"Label\"] == 0, [\"Sender_Bene_Pair\"]].value_counts(normalize=True).head(10).plot.bar(color = \"red\")\n",
    "plt.title(\"The percentage of Fraud Transactions Occur Between Two Different Countries \")"
   ]
  },
  {
   "cell_type": "code",
   "execution_count": 36,
   "id": "2d853639",
   "metadata": {},
   "outputs": [
    {
     "data": {
      "text/plain": [
       "Text(0.5, 1.0, 'The percentage of Non-Fraud Transactions Occur Between Two Different Countries ')"
      ]
     },
     "execution_count": 36,
     "metadata": {},
     "output_type": "execute_result"
    },
    {
     "data": {
      "image/png": "[encoded data removed]",
      "text/plain": [
       "<Figure size 640x480 with 1 Axes>"
      ]
     },
     "metadata": {},
     "output_type": "display_data"
    }
   ],
   "source": [
    "df2.loc[df2[\"Label\"] == 1, [\"Sender_Bene_Pair\"]].value_counts(normalize=True).head(10).plot.bar(color = \"green\")\n",
    "plt.title(\"The percentage of Non-Fraud Transactions Occur Between Two Different Countries \")"
   ]
  },
  {
   "cell_type": "markdown",
   "id": "7d5b03cc",
   "metadata": {},
   "source": [
    "Among fraud transactions, the probability of the ones from USA to CAYMAN-ISLANDS, INDIA, RUSSIAN, BRAZIL are at 5th, 6th, 7th and 8th respectively, besides the top 4. "
   ]
  },
  {
   "cell_type": "markdown",
   "id": "15736e1e",
   "metadata": {},
   "source": [
    "## 3. Feature Engineering"
   ]
  },
  {
   "cell_type": "code",
   "execution_count": 29,
   "id": "257429d2",
   "metadata": {},
   "outputs": [],
   "source": [
    "# In section 1, we already replace the missing values with other values. In this section 3, we select necessary columns to build\n",
    "# the models. And Transform categories variables to numeric variable"
   ]
  },
  {
   "cell_type": "code",
   "execution_count": 17,
   "id": "1efbda90",
   "metadata": {},
   "outputs": [],
   "source": [
    "#Select only top bene and sender Countries. Other contries will be assigned to \"other\""
   ]
  },
  {
   "cell_type": "code",
   "execution_count": 23,
   "id": "5e455220",
   "metadata": {},
   "outputs": [
    {
     "name": "stdout",
     "output_type": "stream",
     "text": [
      "['USA', 'CANADA', 'GERMANY', 'BRAZIL', 'SOUTH-SUDAN', 'MOZAMBIQUE', 'MOLDOVA', 'COCOS-KEELING-IS', 'MACAU', 'GAMBIA', 'CAYMAN-ISLANDS', 'RUSSIAN', 'URUGUAY', 'JAMAICA', 'BULGARIA', 'FRENCH-POLYNESIA']\n",
      "['USA', 'CANADA', 'GERMANY', 'MOZAMBIQUE', 'EL-SALVADOR', 'GUAM', 'SOUTH-SUDAN', 'ITALY', 'SAO-TOME-PRINCIPE', 'LIECHTENSTEIN', 'THAILAND', 'FRENCH-GUIANA', 'KUWAIT', 'MAURITANIA', 'JAMAICA', 'GEORGIA']\n"
     ]
    }
   ],
   "source": [
    "print(topbeneCountry)\n",
    "print(topsenderCountry)"
   ]
  },
  {
   "cell_type": "code",
   "execution_count": 24,
   "id": "23c044cb",
   "metadata": {},
   "outputs": [],
   "source": [
    "def assign_countries(value, top_Country):\n",
    "    if value in top_Country:\n",
    "        return value\n",
    "    else:\n",
    "        return \"other\""
   ]
  },
  {
   "cell_type": "code",
   "execution_count": 25,
   "id": "c059a285",
   "metadata": {},
   "outputs": [],
   "source": [
    "jp_df_copy1[\"Sender_Country_Modified\"] = jp_df_copy1[\"Sender_Country\"]\n",
    "jp_df_copy1[\"Sender_Country_Modified\"]=jp_df_copy1[\"Sender_Country_Modified\"].apply(assign_countries,top_Country = topsenderCountry)"
   ]
  },
  {
   "cell_type": "code",
   "execution_count": 26,
   "id": "3a4d90b2",
   "metadata": {},
   "outputs": [
    {
     "data": {
      "text/plain": [
       "USA                  805501\n",
       "other                580552\n",
       "GERMANY               73362\n",
       "CANADA                27296\n",
       "FRENCH-GUIANA           996\n",
       "THAILAND                985\n",
       "LIECHTENSTEIN           982\n",
       "MAURITANIA              973\n",
       "KUWAIT                  941\n",
       "JAMAICA                 919\n",
       "GEORGIA                 875\n",
       "EL-SALVADOR             870\n",
       "MOZAMBIQUE              854\n",
       "ITALY                   825\n",
       "GUAM                    814\n",
       "SAO-TOME-PRINCIPE       742\n",
       "SOUTH-SUDAN             690\n",
       "Name: Sender_Country_Modified, dtype: int64"
      ]
     },
     "execution_count": 26,
     "metadata": {},
     "output_type": "execute_result"
    }
   ],
   "source": [
    "jp_df_copy1[\"Sender_Country_Modified\"].value_counts()"
   ]
  },
  {
   "cell_type": "code",
   "execution_count": 27,
   "id": "340e61ae",
   "metadata": {},
   "outputs": [],
   "source": [
    "jp_df_copy1[\"Bene_Country_Modified\"] = jp_df_copy1[\"Bene_Country\"]\n",
    "\n",
    "jp_df_copy1[\"Bene_Country_Modified\"]=jp_df_copy1[\"Bene_Country_Modified\"].apply(assign_countries,top_Country = topsenderCountry)"
   ]
  },
  {
   "cell_type": "markdown",
   "id": "cb0b1f9f",
   "metadata": {},
   "source": [
    "### 3.1 Select Preditable Columns"
   ]
  },
  {
   "cell_type": "code",
   "execution_count": 28,
   "id": "fb3c7c90",
   "metadata": {},
   "outputs": [],
   "source": [
    "selected_columns = ['Sender_Id', \n",
    "       'Sender_Country_Modified',  'Bene_Id',\n",
    "        'Bene_Country_Modified', 'USD_amount', 'Label',\n",
    "       'Transaction_Type']"
   ]
  },
  {
   "cell_type": "code",
   "execution_count": 29,
   "id": "78757cb3",
   "metadata": {},
   "outputs": [],
   "source": [
    "new_jp_df = jp_df_copy1[selected_columns]"
   ]
  },
  {
   "cell_type": "code",
   "execution_count": 30,
   "id": "388763a1",
   "metadata": {},
   "outputs": [
    {
     "data": {
      "text/html": [
       "<div>\n",
       "<style scoped>\n",
       "    .dataframe tbody tr th:only-of-type {\n",
       "        vertical-align: middle;\n",
       "    }\n",
       "\n",
       "    .dataframe tbody tr th {\n",
       "        vertical-align: top;\n",
       "    }\n",
       "\n",
       "    .dataframe thead th {\n",
       "        text-align: right;\n",
       "    }\n",
       "</style>\n",
       "<table border=\"1\" class=\"dataframe\">\n",
       "  <thead>\n",
       "    <tr style=\"text-align: right;\">\n",
       "      <th></th>\n",
       "      <th>Sender_Id</th>\n",
       "      <th>Sender_Country_Modified</th>\n",
       "      <th>Bene_Id</th>\n",
       "      <th>Bene_Country_Modified</th>\n",
       "      <th>USD_amount</th>\n",
       "      <th>Label</th>\n",
       "      <th>Transaction_Type</th>\n",
       "    </tr>\n",
       "  </thead>\n",
       "  <tbody>\n",
       "    <tr>\n",
       "      <th>0</th>\n",
       "      <td>JPMC-CLIENT-10098-self</td>\n",
       "      <td>other</td>\n",
       "      <td>JPMC-CLIENT-10098-self</td>\n",
       "      <td>other</td>\n",
       "      <td>558.43</td>\n",
       "      <td>0</td>\n",
       "      <td>WITHDRAWAL</td>\n",
       "    </tr>\n",
       "    <tr>\n",
       "      <th>1</th>\n",
       "      <td>JPMC-CLIENT-10098</td>\n",
       "      <td>USA</td>\n",
       "      <td>CLIENT-10100</td>\n",
       "      <td>CANADA</td>\n",
       "      <td>622.78</td>\n",
       "      <td>0</td>\n",
       "      <td>QUICK-PAYMENT</td>\n",
       "    </tr>\n",
       "    <tr>\n",
       "      <th>2</th>\n",
       "      <td>JPMC-CLIENT-9812-self</td>\n",
       "      <td>other</td>\n",
       "      <td>JPMC-CLIENT-9812-self</td>\n",
       "      <td>other</td>\n",
       "      <td>802.54</td>\n",
       "      <td>0</td>\n",
       "      <td>DEPOSIT-CASH</td>\n",
       "    </tr>\n",
       "    <tr>\n",
       "      <th>3</th>\n",
       "      <td>JPMC-CLIENT-9812</td>\n",
       "      <td>USA</td>\n",
       "      <td>JPMC-CLIENT-9814</td>\n",
       "      <td>USA</td>\n",
       "      <td>989.09</td>\n",
       "      <td>0</td>\n",
       "      <td>PAY-CHECK</td>\n",
       "    </tr>\n",
       "    <tr>\n",
       "      <th>4</th>\n",
       "      <td>JPMC-CLIENT-9789-self</td>\n",
       "      <td>other</td>\n",
       "      <td>JPMC-CLIENT-9789-self</td>\n",
       "      <td>other</td>\n",
       "      <td>786.78</td>\n",
       "      <td>0</td>\n",
       "      <td>DEPOSIT-CHECK</td>\n",
       "    </tr>\n",
       "  </tbody>\n",
       "</table>\n",
       "</div>"
      ],
      "text/plain": [
       "                Sender_Id Sender_Country_Modified                 Bene_Id  \\\n",
       "0  JPMC-CLIENT-10098-self                   other  JPMC-CLIENT-10098-self   \n",
       "1       JPMC-CLIENT-10098                     USA            CLIENT-10100   \n",
       "2   JPMC-CLIENT-9812-self                   other   JPMC-CLIENT-9812-self   \n",
       "3        JPMC-CLIENT-9812                     USA        JPMC-CLIENT-9814   \n",
       "4   JPMC-CLIENT-9789-self                   other   JPMC-CLIENT-9789-self   \n",
       "\n",
       "  Bene_Country_Modified  USD_amount  Label Transaction_Type  \n",
       "0                 other      558.43      0       WITHDRAWAL  \n",
       "1                CANADA      622.78      0    QUICK-PAYMENT  \n",
       "2                 other      802.54      0     DEPOSIT-CASH  \n",
       "3                   USA      989.09      0        PAY-CHECK  \n",
       "4                 other      786.78      0    DEPOSIT-CHECK  "
      ]
     },
     "execution_count": 30,
     "metadata": {},
     "output_type": "execute_result"
    }
   ],
   "source": [
    "new_jp_df.head()"
   ]
  },
  {
   "cell_type": "code",
   "execution_count": 66,
   "id": "905a7593",
   "metadata": {},
   "outputs": [],
   "source": [
    "#Check if there are still any missing values\n",
    "#sns.heatmap(new_jp_df.isna().transpose(),\n",
    "            #cmap=\"YlGnBu\",\n",
    "            #cbar_kws={'label': 'Missing Data'})"
   ]
  },
  {
   "cell_type": "code",
   "execution_count": 31,
   "id": "1c9249d9",
   "metadata": {},
   "outputs": [
    {
     "data": {
      "text/plain": [
       "Sender_Id                  0\n",
       "Sender_Country_Modified    0\n",
       "Bene_Id                    0\n",
       "Bene_Country_Modified      0\n",
       "USD_amount                 0\n",
       "Label                      0\n",
       "Transaction_Type           0\n",
       "dtype: int64"
      ]
     },
     "execution_count": 31,
     "metadata": {},
     "output_type": "execute_result"
    }
   ],
   "source": [
    "new_jp_df.isna().sum()"
   ]
  },
  {
   "cell_type": "markdown",
   "id": "b2a6953b",
   "metadata": {},
   "source": [
    "There are no more missing values in our new_jp_df "
   ]
  },
  {
   "cell_type": "markdown",
   "id": "f97201c4",
   "metadata": {},
   "source": [
    "### 3.2 Eliminate the digital character in the sender and bene id. "
   ]
  },
  {
   "cell_type": "code",
   "execution_count": 83,
   "id": "365a651a",
   "metadata": {},
   "outputs": [],
   "source": [
    "#Eliminate the digital character in the id. Ex: from \"CLIENT-10100\" to \"CLIENT\""
   ]
  },
  {
   "cell_type": "code",
   "execution_count": 126,
   "id": "9ca5f3c9",
   "metadata": {},
   "outputs": [
    {
     "name": "stdout",
     "output_type": "stream",
     "text": [
      "['JPMC-CLIENT-10098-self' 'CLIENT-10100' 'JPMC-CLIENT-9812-self' ...\n",
      " 'BILL-COMPANY-2182913' 'BILL-COMPANY-2178248' 'BILL-COMPANY-2180022']\n",
      "['JPMC-CLIENT-10098-self' 'JPMC-CLIENT-10098' 'JPMC-CLIENT-9812-self' ...\n",
      " 'BILL-COMPANY-2178060' 'BILL-COMPANY-2181246' 'BILL-COMPANY-2178781']\n"
     ]
    }
   ],
   "source": [
    "print(new_jp_df.Bene_Id.unique())\n",
    "print(new_jp_df.Sender_Id.unique())"
   ]
  },
  {
   "cell_type": "markdown",
   "id": "b73aeec3",
   "metadata": {},
   "source": [
    "Above values are before transformed"
   ]
  },
  {
   "cell_type": "code",
   "execution_count": 32,
   "id": "ee99e5aa",
   "metadata": {},
   "outputs": [],
   "source": [
    "#Write function to eleminate the digital character\n",
    "def convert_Id(sender_id):\n",
    "    try:\n",
    "        if re.search(r\"\\-\\d+\",sender_id):\n",
    "            eliminated_digit = re.search(r\"\\-\\d+\",sender_id).group(0)\n",
    "            sender_id = sender_id.replace(eliminated_digit, \"\")\n",
    "            return sender_id\n",
    "    except:\n",
    "        return sender_id\n",
    "#convert sender id\n",
    "sender_id = new_jp_df[\"Sender_Id\"].apply(convert_Id)"
   ]
  },
  {
   "cell_type": "code",
   "execution_count": 33,
   "id": "f12dfa32",
   "metadata": {},
   "outputs": [],
   "source": [
    "bene_id = new_jp_df[\"Bene_Id\"].apply(convert_Id)"
   ]
  },
  {
   "cell_type": "code",
   "execution_count": 129,
   "id": "21624225",
   "metadata": {},
   "outputs": [
    {
     "name": "stdout",
     "output_type": "stream",
     "text": [
      "['JPMC-CLIENT-self' 'JPMC-CLIENT' 'CLIENT' 'COMPANY' 'JPMC-COMPANY'\n",
      " 'BILL-COMPANY']\n",
      "['JPMC-CLIENT-self' 'CLIENT' 'JPMC-CLIENT' 'JPMC-COMPANY' 'COMPANY'\n",
      " 'BILL-COMPANY']\n"
     ]
    }
   ],
   "source": [
    "print(sender_id.unique())\n",
    "print(bene_id.unique())"
   ]
  },
  {
   "cell_type": "markdown",
   "id": "4885350f",
   "metadata": {},
   "source": [
    "Above are after transformed"
   ]
  },
  {
   "cell_type": "code",
   "execution_count": 35,
   "id": "9e1b0753",
   "metadata": {},
   "outputs": [],
   "source": [
    "\n",
    "new_jp_df_copy = new_jp_df.copy()\n",
    "new_jp_df_copy[\"Sender_Id\"] = sender_id\n",
    "new_jp_df_copy[\"Bene_Id\"] = bene_id"
   ]
  },
  {
   "cell_type": "code",
   "execution_count": 131,
   "id": "e26f722d",
   "metadata": {},
   "outputs": [
    {
     "data": {
      "text/html": [
       "<div>\n",
       "<style scoped>\n",
       "    .dataframe tbody tr th:only-of-type {\n",
       "        vertical-align: middle;\n",
       "    }\n",
       "\n",
       "    .dataframe tbody tr th {\n",
       "        vertical-align: top;\n",
       "    }\n",
       "\n",
       "    .dataframe thead th {\n",
       "        text-align: right;\n",
       "    }\n",
       "</style>\n",
       "<table border=\"1\" class=\"dataframe\">\n",
       "  <thead>\n",
       "    <tr style=\"text-align: right;\">\n",
       "      <th></th>\n",
       "      <th>Sender_Id</th>\n",
       "      <th>Sender_Country_Modified</th>\n",
       "      <th>Bene_Id</th>\n",
       "      <th>Bene_Country_Modified</th>\n",
       "      <th>USD_amount</th>\n",
       "      <th>Label</th>\n",
       "      <th>Transaction_Type</th>\n",
       "    </tr>\n",
       "  </thead>\n",
       "  <tbody>\n",
       "    <tr>\n",
       "      <th>0</th>\n",
       "      <td>JPMC-CLIENT-self</td>\n",
       "      <td>other</td>\n",
       "      <td>JPMC-CLIENT-self</td>\n",
       "      <td>other</td>\n",
       "      <td>558.43</td>\n",
       "      <td>0</td>\n",
       "      <td>WITHDRAWAL</td>\n",
       "    </tr>\n",
       "    <tr>\n",
       "      <th>1</th>\n",
       "      <td>JPMC-CLIENT</td>\n",
       "      <td>USA</td>\n",
       "      <td>CLIENT</td>\n",
       "      <td>CANADA</td>\n",
       "      <td>622.78</td>\n",
       "      <td>0</td>\n",
       "      <td>QUICK-PAYMENT</td>\n",
       "    </tr>\n",
       "    <tr>\n",
       "      <th>2</th>\n",
       "      <td>JPMC-CLIENT-self</td>\n",
       "      <td>other</td>\n",
       "      <td>JPMC-CLIENT-self</td>\n",
       "      <td>other</td>\n",
       "      <td>802.54</td>\n",
       "      <td>0</td>\n",
       "      <td>DEPOSIT-CASH</td>\n",
       "    </tr>\n",
       "    <tr>\n",
       "      <th>3</th>\n",
       "      <td>JPMC-CLIENT</td>\n",
       "      <td>USA</td>\n",
       "      <td>JPMC-CLIENT</td>\n",
       "      <td>USA</td>\n",
       "      <td>989.09</td>\n",
       "      <td>0</td>\n",
       "      <td>PAY-CHECK</td>\n",
       "    </tr>\n",
       "    <tr>\n",
       "      <th>4</th>\n",
       "      <td>JPMC-CLIENT-self</td>\n",
       "      <td>other</td>\n",
       "      <td>JPMC-CLIENT-self</td>\n",
       "      <td>other</td>\n",
       "      <td>786.78</td>\n",
       "      <td>0</td>\n",
       "      <td>DEPOSIT-CHECK</td>\n",
       "    </tr>\n",
       "  </tbody>\n",
       "</table>\n",
       "</div>"
      ],
      "text/plain": [
       "          Sender_Id Sender_Country_Modified           Bene_Id  \\\n",
       "0  JPMC-CLIENT-self                   other  JPMC-CLIENT-self   \n",
       "1       JPMC-CLIENT                     USA            CLIENT   \n",
       "2  JPMC-CLIENT-self                   other  JPMC-CLIENT-self   \n",
       "3       JPMC-CLIENT                     USA       JPMC-CLIENT   \n",
       "4  JPMC-CLIENT-self                   other  JPMC-CLIENT-self   \n",
       "\n",
       "  Bene_Country_Modified  USD_amount  Label Transaction_Type  \n",
       "0                 other      558.43      0       WITHDRAWAL  \n",
       "1                CANADA      622.78      0    QUICK-PAYMENT  \n",
       "2                 other      802.54      0     DEPOSIT-CASH  \n",
       "3                   USA      989.09      0        PAY-CHECK  \n",
       "4                 other      786.78      0    DEPOSIT-CHECK  "
      ]
     },
     "execution_count": 131,
     "metadata": {},
     "output_type": "execute_result"
    }
   ],
   "source": [
    "new_jp_df_copy.head()"
   ]
  },
  {
   "cell_type": "code",
   "execution_count": 36,
   "id": "9273cc4e",
   "metadata": {},
   "outputs": [],
   "source": [
    "sender_country = new_jp_df_copy.loc[new_jp_df_copy[\"Sender_Country_Modified\"].isnull(),['Sender_Country_Modified']]"
   ]
  },
  {
   "cell_type": "code",
   "execution_count": 37,
   "id": "b699bf0c",
   "metadata": {},
   "outputs": [],
   "source": [
    "bene_country = new_jp_df_copy.loc[new_jp_df_copy[\"Sender_Country_Modified\"].isnull(),['Bene_Country_Modified']]"
   ]
  },
  {
   "cell_type": "code",
   "execution_count": 134,
   "id": "c937bca8",
   "metadata": {},
   "outputs": [
    {
     "data": {
      "text/html": [
       "<div>\n",
       "<style scoped>\n",
       "    .dataframe tbody tr th:only-of-type {\n",
       "        vertical-align: middle;\n",
       "    }\n",
       "\n",
       "    .dataframe tbody tr th {\n",
       "        vertical-align: top;\n",
       "    }\n",
       "\n",
       "    .dataframe thead th {\n",
       "        text-align: right;\n",
       "    }\n",
       "</style>\n",
       "<table border=\"1\" class=\"dataframe\">\n",
       "  <thead>\n",
       "    <tr style=\"text-align: right;\">\n",
       "      <th></th>\n",
       "      <th>Sender_Id</th>\n",
       "      <th>Sender_Country_Modified</th>\n",
       "      <th>Bene_Id</th>\n",
       "      <th>Bene_Country_Modified</th>\n",
       "      <th>USD_amount</th>\n",
       "      <th>Label</th>\n",
       "      <th>Transaction_Type</th>\n",
       "    </tr>\n",
       "  </thead>\n",
       "  <tbody>\n",
       "    <tr>\n",
       "      <th>0</th>\n",
       "      <td>JPMC-CLIENT-self</td>\n",
       "      <td>other</td>\n",
       "      <td>JPMC-CLIENT-self</td>\n",
       "      <td>other</td>\n",
       "      <td>558.43</td>\n",
       "      <td>0</td>\n",
       "      <td>WITHDRAWAL</td>\n",
       "    </tr>\n",
       "    <tr>\n",
       "      <th>1</th>\n",
       "      <td>JPMC-CLIENT</td>\n",
       "      <td>USA</td>\n",
       "      <td>CLIENT</td>\n",
       "      <td>CANADA</td>\n",
       "      <td>622.78</td>\n",
       "      <td>0</td>\n",
       "      <td>QUICK-PAYMENT</td>\n",
       "    </tr>\n",
       "    <tr>\n",
       "      <th>2</th>\n",
       "      <td>JPMC-CLIENT-self</td>\n",
       "      <td>other</td>\n",
       "      <td>JPMC-CLIENT-self</td>\n",
       "      <td>other</td>\n",
       "      <td>802.54</td>\n",
       "      <td>0</td>\n",
       "      <td>DEPOSIT-CASH</td>\n",
       "    </tr>\n",
       "    <tr>\n",
       "      <th>3</th>\n",
       "      <td>JPMC-CLIENT</td>\n",
       "      <td>USA</td>\n",
       "      <td>JPMC-CLIENT</td>\n",
       "      <td>USA</td>\n",
       "      <td>989.09</td>\n",
       "      <td>0</td>\n",
       "      <td>PAY-CHECK</td>\n",
       "    </tr>\n",
       "    <tr>\n",
       "      <th>4</th>\n",
       "      <td>JPMC-CLIENT-self</td>\n",
       "      <td>other</td>\n",
       "      <td>JPMC-CLIENT-self</td>\n",
       "      <td>other</td>\n",
       "      <td>786.78</td>\n",
       "      <td>0</td>\n",
       "      <td>DEPOSIT-CHECK</td>\n",
       "    </tr>\n",
       "  </tbody>\n",
       "</table>\n",
       "</div>"
      ],
      "text/plain": [
       "          Sender_Id Sender_Country_Modified           Bene_Id  \\\n",
       "0  JPMC-CLIENT-self                   other  JPMC-CLIENT-self   \n",
       "1       JPMC-CLIENT                     USA            CLIENT   \n",
       "2  JPMC-CLIENT-self                   other  JPMC-CLIENT-self   \n",
       "3       JPMC-CLIENT                     USA       JPMC-CLIENT   \n",
       "4  JPMC-CLIENT-self                   other  JPMC-CLIENT-self   \n",
       "\n",
       "  Bene_Country_Modified  USD_amount  Label Transaction_Type  \n",
       "0                 other      558.43      0       WITHDRAWAL  \n",
       "1                CANADA      622.78      0    QUICK-PAYMENT  \n",
       "2                 other      802.54      0     DEPOSIT-CASH  \n",
       "3                   USA      989.09      0        PAY-CHECK  \n",
       "4                 other      786.78      0    DEPOSIT-CHECK  "
      ]
     },
     "execution_count": 134,
     "metadata": {},
     "output_type": "execute_result"
    }
   ],
   "source": [
    "new_jp_df_copy.head()\n"
   ]
  },
  {
   "cell_type": "code",
   "execution_count": 38,
   "id": "08a6b97f",
   "metadata": {},
   "outputs": [
    {
     "data": {
      "text/plain": [
       "other                771564\n",
       "USA                  563703\n",
       "CANADA               134351\n",
       "GERMANY                7886\n",
       "SOUTH-SUDAN            1763\n",
       "JAMAICA                1713\n",
       "MOZAMBIQUE             1707\n",
       "LIECHTENSTEIN          1673\n",
       "THAILAND               1656\n",
       "GUAM                   1650\n",
       "EL-SALVADOR            1583\n",
       "FRENCH-GUIANA          1576\n",
       "MAURITANIA             1560\n",
       "GEORGIA                1519\n",
       "ITALY                  1494\n",
       "KUWAIT                 1405\n",
       "SAO-TOME-PRINCIPE      1374\n",
       "Name: Bene_Country_Modified, dtype: int64"
      ]
     },
     "execution_count": 38,
     "metadata": {},
     "output_type": "execute_result"
    }
   ],
   "source": [
    "new_jp_df_copy.Bene_Country_Modified.value_counts()"
   ]
  },
  {
   "cell_type": "markdown",
   "id": "d96b06b2",
   "metadata": {},
   "source": [
    "### 3.3. Adding \"sender\" to values of the Sender_Id and Sender_Country Columns"
   ]
  },
  {
   "cell_type": "code",
   "execution_count": 39,
   "id": "1b98d44b",
   "metadata": {},
   "outputs": [],
   "source": [
    "\n",
    "def transform_sender_columns_values(string_values):\n",
    "    if \"self\" not in string_values:\n",
    "        new_values = string_values + \"-\"+\"sender\"\n",
    "        return new_values\n",
    "    else:\n",
    "        return string_values"
   ]
  },
  {
   "cell_type": "code",
   "execution_count": 40,
   "id": "b7db1c3f",
   "metadata": {},
   "outputs": [],
   "source": [
    "final_sender_id = new_jp_df_copy[\"Sender_Id\"].apply(transform_sender_columns_values)"
   ]
  },
  {
   "cell_type": "code",
   "execution_count": 41,
   "id": "4646f2c2",
   "metadata": {},
   "outputs": [],
   "source": [
    "new_jp_df_copy[\"Sender_Id\"] = final_sender_id"
   ]
  },
  {
   "cell_type": "code",
   "execution_count": 42,
   "id": "231f14b9",
   "metadata": {},
   "outputs": [
    {
     "data": {
      "text/plain": [
       "JPMC-CLIENT-sender     848168\n",
       "JPMC-CLIENT-self       434779\n",
       "CLIENT-sender          110608\n",
       "COMPANY-sender          59204\n",
       "JPMC-COMPANY-sender     25013\n",
       "BILL-COMPANY-sender     20405\n",
       "Name: Sender_Id, dtype: int64"
      ]
     },
     "execution_count": 42,
     "metadata": {},
     "output_type": "execute_result"
    }
   ],
   "source": [
    "new_jp_df_copy[\"Sender_Id\"].value_counts()"
   ]
  },
  {
   "cell_type": "code",
   "execution_count": 43,
   "id": "92c774c8",
   "metadata": {},
   "outputs": [],
   "source": [
    "final_sender_country = new_jp_df_copy[\"Sender_Country_Modified\"].apply(transform_sender_columns_values)"
   ]
  },
  {
   "cell_type": "code",
   "execution_count": 44,
   "id": "e0e45ac5",
   "metadata": {},
   "outputs": [],
   "source": [
    "new_jp_df_copy[\"Sender_Country_Modified\"] =final_sender_country\n"
   ]
  },
  {
   "cell_type": "markdown",
   "id": "6d8403ab",
   "metadata": {},
   "source": [
    "### 3.3. Adding \"bene\" to values of Bene_Id and Bene_Country Columns "
   ]
  },
  {
   "cell_type": "code",
   "execution_count": 45,
   "id": "9c730b95",
   "metadata": {},
   "outputs": [],
   "source": [
    "def transform_bene_columns_values(string_values):\n",
    "    if \"self\" not in string_values:\n",
    "        new_values = string_values + \"-\"+\"bene\"\n",
    "        return new_values\n",
    "    else:\n",
    "        return string_values"
   ]
  },
  {
   "cell_type": "code",
   "execution_count": 46,
   "id": "669e5dd2",
   "metadata": {},
   "outputs": [
    {
     "data": {
      "text/plain": [
       "array(['JPMC-CLIENT-self', 'CLIENT-bene', 'JPMC-CLIENT-bene',\n",
       "       'JPMC-COMPANY-bene', 'COMPANY-bene', 'BILL-COMPANY-bene'],\n",
       "      dtype=object)"
      ]
     },
     "execution_count": 46,
     "metadata": {},
     "output_type": "execute_result"
    }
   ],
   "source": [
    "new_jp_df_copy[\"Bene_Id\"] = new_jp_df_copy[\"Bene_Id\"].apply(transform_bene_columns_values)\n",
    "new_jp_df_copy[\"Bene_Id\"].unique()"
   ]
  },
  {
   "cell_type": "code",
   "execution_count": 47,
   "id": "5d862d3d",
   "metadata": {},
   "outputs": [
    {
     "data": {
      "text/plain": [
       "0           JPMC-CLIENT-self\n",
       "1                CLIENT-bene\n",
       "2           JPMC-CLIENT-self\n",
       "3           JPMC-CLIENT-bene\n",
       "4           JPMC-CLIENT-self\n",
       "                 ...        \n",
       "1498172    BILL-COMPANY-bene\n",
       "1498173          CLIENT-bene\n",
       "1498174    BILL-COMPANY-bene\n",
       "1498175          CLIENT-bene\n",
       "1498176          CLIENT-bene\n",
       "Name: Bene_Id, Length: 1498177, dtype: object"
      ]
     },
     "execution_count": 47,
     "metadata": {},
     "output_type": "execute_result"
    }
   ],
   "source": [
    "new_jp_df_copy[\"Bene_Id\"]"
   ]
  },
  {
   "cell_type": "code",
   "execution_count": null,
   "id": "1ffbb465",
   "metadata": {},
   "outputs": [],
   "source": []
  },
  {
   "cell_type": "code",
   "execution_count": 48,
   "id": "ef5c7fd3",
   "metadata": {},
   "outputs": [],
   "source": [
    "new_jp_df_copy[\"Bene_Country_Modified\"] = new_jp_df_copy[\"Bene_Country_Modified\"].apply(transform_bene_columns_values)\n"
   ]
  },
  {
   "cell_type": "code",
   "execution_count": 49,
   "id": "16334803",
   "metadata": {},
   "outputs": [
    {
     "data": {
      "text/html": [
       "<div>\n",
       "<style scoped>\n",
       "    .dataframe tbody tr th:only-of-type {\n",
       "        vertical-align: middle;\n",
       "    }\n",
       "\n",
       "    .dataframe tbody tr th {\n",
       "        vertical-align: top;\n",
       "    }\n",
       "\n",
       "    .dataframe thead th {\n",
       "        text-align: right;\n",
       "    }\n",
       "</style>\n",
       "<table border=\"1\" class=\"dataframe\">\n",
       "  <thead>\n",
       "    <tr style=\"text-align: right;\">\n",
       "      <th></th>\n",
       "      <th>Sender_Id</th>\n",
       "      <th>Sender_Country_Modified</th>\n",
       "      <th>Bene_Id</th>\n",
       "      <th>Bene_Country_Modified</th>\n",
       "      <th>USD_amount</th>\n",
       "      <th>Label</th>\n",
       "      <th>Transaction_Type</th>\n",
       "    </tr>\n",
       "  </thead>\n",
       "  <tbody>\n",
       "    <tr>\n",
       "      <th>0</th>\n",
       "      <td>JPMC-CLIENT-self</td>\n",
       "      <td>other-sender</td>\n",
       "      <td>JPMC-CLIENT-self</td>\n",
       "      <td>other-bene</td>\n",
       "      <td>558.43</td>\n",
       "      <td>0</td>\n",
       "      <td>WITHDRAWAL</td>\n",
       "    </tr>\n",
       "    <tr>\n",
       "      <th>1</th>\n",
       "      <td>JPMC-CLIENT-sender</td>\n",
       "      <td>USA-sender</td>\n",
       "      <td>CLIENT-bene</td>\n",
       "      <td>CANADA-bene</td>\n",
       "      <td>622.78</td>\n",
       "      <td>0</td>\n",
       "      <td>QUICK-PAYMENT</td>\n",
       "    </tr>\n",
       "    <tr>\n",
       "      <th>2</th>\n",
       "      <td>JPMC-CLIENT-self</td>\n",
       "      <td>other-sender</td>\n",
       "      <td>JPMC-CLIENT-self</td>\n",
       "      <td>other-bene</td>\n",
       "      <td>802.54</td>\n",
       "      <td>0</td>\n",
       "      <td>DEPOSIT-CASH</td>\n",
       "    </tr>\n",
       "    <tr>\n",
       "      <th>3</th>\n",
       "      <td>JPMC-CLIENT-sender</td>\n",
       "      <td>USA-sender</td>\n",
       "      <td>JPMC-CLIENT-bene</td>\n",
       "      <td>USA-bene</td>\n",
       "      <td>989.09</td>\n",
       "      <td>0</td>\n",
       "      <td>PAY-CHECK</td>\n",
       "    </tr>\n",
       "    <tr>\n",
       "      <th>4</th>\n",
       "      <td>JPMC-CLIENT-self</td>\n",
       "      <td>other-sender</td>\n",
       "      <td>JPMC-CLIENT-self</td>\n",
       "      <td>other-bene</td>\n",
       "      <td>786.78</td>\n",
       "      <td>0</td>\n",
       "      <td>DEPOSIT-CHECK</td>\n",
       "    </tr>\n",
       "  </tbody>\n",
       "</table>\n",
       "</div>"
      ],
      "text/plain": [
       "            Sender_Id Sender_Country_Modified           Bene_Id  \\\n",
       "0    JPMC-CLIENT-self            other-sender  JPMC-CLIENT-self   \n",
       "1  JPMC-CLIENT-sender              USA-sender       CLIENT-bene   \n",
       "2    JPMC-CLIENT-self            other-sender  JPMC-CLIENT-self   \n",
       "3  JPMC-CLIENT-sender              USA-sender  JPMC-CLIENT-bene   \n",
       "4    JPMC-CLIENT-self            other-sender  JPMC-CLIENT-self   \n",
       "\n",
       "  Bene_Country_Modified  USD_amount  Label Transaction_Type  \n",
       "0            other-bene      558.43      0       WITHDRAWAL  \n",
       "1           CANADA-bene      622.78      0    QUICK-PAYMENT  \n",
       "2            other-bene      802.54      0     DEPOSIT-CASH  \n",
       "3              USA-bene      989.09      0        PAY-CHECK  \n",
       "4            other-bene      786.78      0    DEPOSIT-CHECK  "
      ]
     },
     "execution_count": 49,
     "metadata": {},
     "output_type": "execute_result"
    }
   ],
   "source": [
    "new_jp_df_copy.head()"
   ]
  },
  {
   "cell_type": "markdown",
   "id": "89355dd5",
   "metadata": {},
   "source": [
    "### 3.4 One-Hot-Encoding for Category Variables "
   ]
  },
  {
   "cell_type": "code",
   "execution_count": 148,
   "id": "bc800a3e",
   "metadata": {},
   "outputs": [],
   "source": [
    "#Transfer All Category Variables (5) including Sender_Id, Sender_Country, Bene_Id, Bene_Country, Transaction_Type to One-hot-encoding"
   ]
  },
  {
   "cell_type": "code",
   "execution_count": 50,
   "id": "00332ae7",
   "metadata": {},
   "outputs": [],
   "source": [
    "jp_df_copy2 = new_jp_df_copy.copy()"
   ]
  },
  {
   "cell_type": "code",
   "execution_count": 51,
   "id": "a57063f8",
   "metadata": {},
   "outputs": [
    {
     "data": {
      "text/html": [
       "<div>\n",
       "<style scoped>\n",
       "    .dataframe tbody tr th:only-of-type {\n",
       "        vertical-align: middle;\n",
       "    }\n",
       "\n",
       "    .dataframe tbody tr th {\n",
       "        vertical-align: top;\n",
       "    }\n",
       "\n",
       "    .dataframe thead th {\n",
       "        text-align: right;\n",
       "    }\n",
       "</style>\n",
       "<table border=\"1\" class=\"dataframe\">\n",
       "  <thead>\n",
       "    <tr style=\"text-align: right;\">\n",
       "      <th></th>\n",
       "      <th>USD_amount</th>\n",
       "      <th>Label</th>\n",
       "    </tr>\n",
       "  </thead>\n",
       "  <tbody>\n",
       "    <tr>\n",
       "      <th>0</th>\n",
       "      <td>558.43</td>\n",
       "      <td>0</td>\n",
       "    </tr>\n",
       "    <tr>\n",
       "      <th>1</th>\n",
       "      <td>622.78</td>\n",
       "      <td>0</td>\n",
       "    </tr>\n",
       "    <tr>\n",
       "      <th>2</th>\n",
       "      <td>802.54</td>\n",
       "      <td>0</td>\n",
       "    </tr>\n",
       "    <tr>\n",
       "      <th>3</th>\n",
       "      <td>989.09</td>\n",
       "      <td>0</td>\n",
       "    </tr>\n",
       "    <tr>\n",
       "      <th>4</th>\n",
       "      <td>786.78</td>\n",
       "      <td>0</td>\n",
       "    </tr>\n",
       "    <tr>\n",
       "      <th>...</th>\n",
       "      <td>...</td>\n",
       "      <td>...</td>\n",
       "    </tr>\n",
       "    <tr>\n",
       "      <th>1498172</th>\n",
       "      <td>159.64</td>\n",
       "      <td>0</td>\n",
       "    </tr>\n",
       "    <tr>\n",
       "      <th>1498173</th>\n",
       "      <td>120.07</td>\n",
       "      <td>0</td>\n",
       "    </tr>\n",
       "    <tr>\n",
       "      <th>1498174</th>\n",
       "      <td>25.32</td>\n",
       "      <td>0</td>\n",
       "    </tr>\n",
       "    <tr>\n",
       "      <th>1498175</th>\n",
       "      <td>610.91</td>\n",
       "      <td>0</td>\n",
       "    </tr>\n",
       "    <tr>\n",
       "      <th>1498176</th>\n",
       "      <td>688.51</td>\n",
       "      <td>0</td>\n",
       "    </tr>\n",
       "  </tbody>\n",
       "</table>\n",
       "<p>1498177 rows × 2 columns</p>\n",
       "</div>"
      ],
      "text/plain": [
       "         USD_amount  Label\n",
       "0            558.43      0\n",
       "1            622.78      0\n",
       "2            802.54      0\n",
       "3            989.09      0\n",
       "4            786.78      0\n",
       "...             ...    ...\n",
       "1498172      159.64      0\n",
       "1498173      120.07      0\n",
       "1498174       25.32      0\n",
       "1498175      610.91      0\n",
       "1498176      688.51      0\n",
       "\n",
       "[1498177 rows x 2 columns]"
      ]
     },
     "execution_count": 51,
     "metadata": {},
     "output_type": "execute_result"
    }
   ],
   "source": [
    "jp_df_copy2[[\"USD_amount\",\"Label\"]]"
   ]
  },
  {
   "cell_type": "code",
   "execution_count": 52,
   "id": "24e632ff",
   "metadata": {},
   "outputs": [],
   "source": [
    "sender_id_unique_values = new_jp_df_copy.Sender_Id.unique()\n",
    "sender_country_unique_values = new_jp_df_copy.Sender_Country_Modified.unique()\n",
    "bene_id_unique_values = new_jp_df_copy.Bene_Id.unique()\n",
    "bene_country_unique_values = new_jp_df_copy.Bene_Country_Modified.unique()\n",
    "transaction_type = new_jp_df_copy.Transaction_Type.unique()"
   ]
  },
  {
   "cell_type": "code",
   "execution_count": 53,
   "id": "d48d655f",
   "metadata": {
    "scrolled": true
   },
   "outputs": [
    {
     "data": {
      "text/plain": [
       "array(['JPMC-CLIENT-self', 'JPMC-CLIENT-sender', 'CLIENT-sender',\n",
       "       'COMPANY-sender', 'JPMC-COMPANY-sender', 'BILL-COMPANY-sender'],\n",
       "      dtype=object)"
      ]
     },
     "execution_count": 53,
     "metadata": {},
     "output_type": "execute_result"
    }
   ],
   "source": [
    "sender_id_unique_values"
   ]
  },
  {
   "cell_type": "code",
   "execution_count": 54,
   "id": "526da859",
   "metadata": {},
   "outputs": [
    {
     "data": {
      "text/plain": [
       "array(['JPMC-CLIENT-self', 'CLIENT-bene', 'JPMC-CLIENT-bene',\n",
       "       'JPMC-COMPANY-bene', 'COMPANY-bene', 'BILL-COMPANY-bene'],\n",
       "      dtype=object)"
      ]
     },
     "execution_count": 54,
     "metadata": {},
     "output_type": "execute_result"
    }
   ],
   "source": [
    "bene_id_unique_values"
   ]
  },
  {
   "cell_type": "code",
   "execution_count": 55,
   "id": "0f5b1849",
   "metadata": {},
   "outputs": [
    {
     "data": {
      "text/plain": [
       "Sender_Id                  0\n",
       "Sender_Country_Modified    0\n",
       "Bene_Id                    0\n",
       "Bene_Country_Modified      0\n",
       "USD_amount                 0\n",
       "Label                      0\n",
       "Transaction_Type           0\n",
       "dtype: int64"
      ]
     },
     "execution_count": 55,
     "metadata": {},
     "output_type": "execute_result"
    }
   ],
   "source": [
    "new_jp_df_copy.isnull().sum()"
   ]
  },
  {
   "cell_type": "code",
   "execution_count": 56,
   "id": "75596770",
   "metadata": {},
   "outputs": [],
   "source": [
    "bene_country_with_self =[]\n",
    "for i in bene_country_unique_values:\n",
    "    if \"self\" in i:\n",
    "        bene_country_with_self.append(i)\n",
    "        "
   ]
  },
  {
   "cell_type": "code",
   "execution_count": 57,
   "id": "49b9f58f",
   "metadata": {},
   "outputs": [
    {
     "data": {
      "text/html": [
       "<div>\n",
       "<style scoped>\n",
       "    .dataframe tbody tr th:only-of-type {\n",
       "        vertical-align: middle;\n",
       "    }\n",
       "\n",
       "    .dataframe tbody tr th {\n",
       "        vertical-align: top;\n",
       "    }\n",
       "\n",
       "    .dataframe thead th {\n",
       "        text-align: right;\n",
       "    }\n",
       "</style>\n",
       "<table border=\"1\" class=\"dataframe\">\n",
       "  <thead>\n",
       "    <tr style=\"text-align: right;\">\n",
       "      <th></th>\n",
       "      <th>CLIENT-sender</th>\n",
       "      <th>COMPANY-sender</th>\n",
       "      <th>JPMC-CLIENT-self</th>\n",
       "      <th>JPMC-CLIENT-sender</th>\n",
       "      <th>JPMC-COMPANY-sender</th>\n",
       "    </tr>\n",
       "  </thead>\n",
       "  <tbody>\n",
       "    <tr>\n",
       "      <th>0</th>\n",
       "      <td>0</td>\n",
       "      <td>0</td>\n",
       "      <td>1</td>\n",
       "      <td>0</td>\n",
       "      <td>0</td>\n",
       "    </tr>\n",
       "    <tr>\n",
       "      <th>1</th>\n",
       "      <td>0</td>\n",
       "      <td>0</td>\n",
       "      <td>0</td>\n",
       "      <td>1</td>\n",
       "      <td>0</td>\n",
       "    </tr>\n",
       "    <tr>\n",
       "      <th>2</th>\n",
       "      <td>0</td>\n",
       "      <td>0</td>\n",
       "      <td>1</td>\n",
       "      <td>0</td>\n",
       "      <td>0</td>\n",
       "    </tr>\n",
       "    <tr>\n",
       "      <th>3</th>\n",
       "      <td>0</td>\n",
       "      <td>0</td>\n",
       "      <td>0</td>\n",
       "      <td>1</td>\n",
       "      <td>0</td>\n",
       "    </tr>\n",
       "    <tr>\n",
       "      <th>4</th>\n",
       "      <td>0</td>\n",
       "      <td>0</td>\n",
       "      <td>1</td>\n",
       "      <td>0</td>\n",
       "      <td>0</td>\n",
       "    </tr>\n",
       "    <tr>\n",
       "      <th>...</th>\n",
       "      <td>...</td>\n",
       "      <td>...</td>\n",
       "      <td>...</td>\n",
       "      <td>...</td>\n",
       "      <td>...</td>\n",
       "    </tr>\n",
       "    <tr>\n",
       "      <th>1498172</th>\n",
       "      <td>0</td>\n",
       "      <td>0</td>\n",
       "      <td>0</td>\n",
       "      <td>1</td>\n",
       "      <td>0</td>\n",
       "    </tr>\n",
       "    <tr>\n",
       "      <th>1498173</th>\n",
       "      <td>0</td>\n",
       "      <td>0</td>\n",
       "      <td>0</td>\n",
       "      <td>1</td>\n",
       "      <td>0</td>\n",
       "    </tr>\n",
       "    <tr>\n",
       "      <th>1498174</th>\n",
       "      <td>0</td>\n",
       "      <td>0</td>\n",
       "      <td>0</td>\n",
       "      <td>1</td>\n",
       "      <td>0</td>\n",
       "    </tr>\n",
       "    <tr>\n",
       "      <th>1498175</th>\n",
       "      <td>0</td>\n",
       "      <td>0</td>\n",
       "      <td>0</td>\n",
       "      <td>1</td>\n",
       "      <td>0</td>\n",
       "    </tr>\n",
       "    <tr>\n",
       "      <th>1498176</th>\n",
       "      <td>0</td>\n",
       "      <td>0</td>\n",
       "      <td>0</td>\n",
       "      <td>1</td>\n",
       "      <td>0</td>\n",
       "    </tr>\n",
       "  </tbody>\n",
       "</table>\n",
       "<p>1498177 rows × 5 columns</p>\n",
       "</div>"
      ],
      "text/plain": [
       "         CLIENT-sender  COMPANY-sender  JPMC-CLIENT-self  JPMC-CLIENT-sender  \\\n",
       "0                    0               0                 1                   0   \n",
       "1                    0               0                 0                   1   \n",
       "2                    0               0                 1                   0   \n",
       "3                    0               0                 0                   1   \n",
       "4                    0               0                 1                   0   \n",
       "...                ...             ...               ...                 ...   \n",
       "1498172              0               0                 0                   1   \n",
       "1498173              0               0                 0                   1   \n",
       "1498174              0               0                 0                   1   \n",
       "1498175              0               0                 0                   1   \n",
       "1498176              0               0                 0                   1   \n",
       "\n",
       "         JPMC-COMPANY-sender  \n",
       "0                          0  \n",
       "1                          0  \n",
       "2                          0  \n",
       "3                          0  \n",
       "4                          0  \n",
       "...                      ...  \n",
       "1498172                    0  \n",
       "1498173                    0  \n",
       "1498174                    0  \n",
       "1498175                    0  \n",
       "1498176                    0  \n",
       "\n",
       "[1498177 rows x 5 columns]"
      ]
     },
     "execution_count": 57,
     "metadata": {},
     "output_type": "execute_result"
    }
   ],
   "source": [
    "df1 = pd.get_dummies(jp_df_copy2[\"Sender_Id\"],drop_first=True)\n",
    "df1"
   ]
  },
  {
   "cell_type": "code",
   "execution_count": 58,
   "id": "cded16b0",
   "metadata": {},
   "outputs": [
    {
     "data": {
      "text/html": [
       "<div>\n",
       "<style scoped>\n",
       "    .dataframe tbody tr th:only-of-type {\n",
       "        vertical-align: middle;\n",
       "    }\n",
       "\n",
       "    .dataframe tbody tr th {\n",
       "        vertical-align: top;\n",
       "    }\n",
       "\n",
       "    .dataframe thead th {\n",
       "        text-align: right;\n",
       "    }\n",
       "</style>\n",
       "<table border=\"1\" class=\"dataframe\">\n",
       "  <thead>\n",
       "    <tr style=\"text-align: right;\">\n",
       "      <th></th>\n",
       "      <th>CLIENT-bene</th>\n",
       "      <th>COMPANY-bene</th>\n",
       "      <th>JPMC-CLIENT-bene</th>\n",
       "      <th>JPMC-COMPANY-bene</th>\n",
       "    </tr>\n",
       "  </thead>\n",
       "  <tbody>\n",
       "    <tr>\n",
       "      <th>0</th>\n",
       "      <td>0</td>\n",
       "      <td>0</td>\n",
       "      <td>0</td>\n",
       "      <td>0</td>\n",
       "    </tr>\n",
       "    <tr>\n",
       "      <th>1</th>\n",
       "      <td>1</td>\n",
       "      <td>0</td>\n",
       "      <td>0</td>\n",
       "      <td>0</td>\n",
       "    </tr>\n",
       "    <tr>\n",
       "      <th>2</th>\n",
       "      <td>0</td>\n",
       "      <td>0</td>\n",
       "      <td>0</td>\n",
       "      <td>0</td>\n",
       "    </tr>\n",
       "    <tr>\n",
       "      <th>3</th>\n",
       "      <td>0</td>\n",
       "      <td>0</td>\n",
       "      <td>1</td>\n",
       "      <td>0</td>\n",
       "    </tr>\n",
       "    <tr>\n",
       "      <th>4</th>\n",
       "      <td>0</td>\n",
       "      <td>0</td>\n",
       "      <td>0</td>\n",
       "      <td>0</td>\n",
       "    </tr>\n",
       "    <tr>\n",
       "      <th>...</th>\n",
       "      <td>...</td>\n",
       "      <td>...</td>\n",
       "      <td>...</td>\n",
       "      <td>...</td>\n",
       "    </tr>\n",
       "    <tr>\n",
       "      <th>1498172</th>\n",
       "      <td>0</td>\n",
       "      <td>0</td>\n",
       "      <td>0</td>\n",
       "      <td>0</td>\n",
       "    </tr>\n",
       "    <tr>\n",
       "      <th>1498173</th>\n",
       "      <td>1</td>\n",
       "      <td>0</td>\n",
       "      <td>0</td>\n",
       "      <td>0</td>\n",
       "    </tr>\n",
       "    <tr>\n",
       "      <th>1498174</th>\n",
       "      <td>0</td>\n",
       "      <td>0</td>\n",
       "      <td>0</td>\n",
       "      <td>0</td>\n",
       "    </tr>\n",
       "    <tr>\n",
       "      <th>1498175</th>\n",
       "      <td>1</td>\n",
       "      <td>0</td>\n",
       "      <td>0</td>\n",
       "      <td>0</td>\n",
       "    </tr>\n",
       "    <tr>\n",
       "      <th>1498176</th>\n",
       "      <td>1</td>\n",
       "      <td>0</td>\n",
       "      <td>0</td>\n",
       "      <td>0</td>\n",
       "    </tr>\n",
       "  </tbody>\n",
       "</table>\n",
       "<p>1498177 rows × 4 columns</p>\n",
       "</div>"
      ],
      "text/plain": [
       "         CLIENT-bene  COMPANY-bene  JPMC-CLIENT-bene  JPMC-COMPANY-bene\n",
       "0                  0             0                 0                  0\n",
       "1                  1             0                 0                  0\n",
       "2                  0             0                 0                  0\n",
       "3                  0             0                 1                  0\n",
       "4                  0             0                 0                  0\n",
       "...              ...           ...               ...                ...\n",
       "1498172            0             0                 0                  0\n",
       "1498173            1             0                 0                  0\n",
       "1498174            0             0                 0                  0\n",
       "1498175            1             0                 0                  0\n",
       "1498176            1             0                 0                  0\n",
       "\n",
       "[1498177 rows x 4 columns]"
      ]
     },
     "execution_count": 58,
     "metadata": {},
     "output_type": "execute_result"
    }
   ],
   "source": [
    "df2 = pd.get_dummies(jp_df_copy2[\"Bene_Id\"],drop_first=True).drop(\"JPMC-CLIENT-self\", axis = 1)\n",
    "df2"
   ]
  },
  {
   "cell_type": "code",
   "execution_count": 59,
   "id": "e947bf4c",
   "metadata": {},
   "outputs": [
    {
     "data": {
      "text/html": [
       "<div>\n",
       "<style scoped>\n",
       "    .dataframe tbody tr th:only-of-type {\n",
       "        vertical-align: middle;\n",
       "    }\n",
       "\n",
       "    .dataframe tbody tr th {\n",
       "        vertical-align: top;\n",
       "    }\n",
       "\n",
       "    .dataframe thead th {\n",
       "        text-align: right;\n",
       "    }\n",
       "</style>\n",
       "<table border=\"1\" class=\"dataframe\">\n",
       "  <thead>\n",
       "    <tr style=\"text-align: right;\">\n",
       "      <th></th>\n",
       "      <th>EL-SALVADOR-sender</th>\n",
       "      <th>FRENCH-GUIANA-sender</th>\n",
       "      <th>GEORGIA-sender</th>\n",
       "      <th>GERMANY-sender</th>\n",
       "      <th>GUAM-sender</th>\n",
       "      <th>ITALY-sender</th>\n",
       "      <th>JAMAICA-sender</th>\n",
       "      <th>KUWAIT-sender</th>\n",
       "      <th>LIECHTENSTEIN-sender</th>\n",
       "      <th>MAURITANIA-sender</th>\n",
       "      <th>MOZAMBIQUE-sender</th>\n",
       "      <th>SAO-TOME-PRINCIPE-sender</th>\n",
       "      <th>SOUTH-SUDAN-sender</th>\n",
       "      <th>THAILAND-sender</th>\n",
       "      <th>USA-sender</th>\n",
       "      <th>other-sender</th>\n",
       "    </tr>\n",
       "  </thead>\n",
       "  <tbody>\n",
       "    <tr>\n",
       "      <th>0</th>\n",
       "      <td>0</td>\n",
       "      <td>0</td>\n",
       "      <td>0</td>\n",
       "      <td>0</td>\n",
       "      <td>0</td>\n",
       "      <td>0</td>\n",
       "      <td>0</td>\n",
       "      <td>0</td>\n",
       "      <td>0</td>\n",
       "      <td>0</td>\n",
       "      <td>0</td>\n",
       "      <td>0</td>\n",
       "      <td>0</td>\n",
       "      <td>0</td>\n",
       "      <td>0</td>\n",
       "      <td>1</td>\n",
       "    </tr>\n",
       "    <tr>\n",
       "      <th>1</th>\n",
       "      <td>0</td>\n",
       "      <td>0</td>\n",
       "      <td>0</td>\n",
       "      <td>0</td>\n",
       "      <td>0</td>\n",
       "      <td>0</td>\n",
       "      <td>0</td>\n",
       "      <td>0</td>\n",
       "      <td>0</td>\n",
       "      <td>0</td>\n",
       "      <td>0</td>\n",
       "      <td>0</td>\n",
       "      <td>0</td>\n",
       "      <td>0</td>\n",
       "      <td>1</td>\n",
       "      <td>0</td>\n",
       "    </tr>\n",
       "    <tr>\n",
       "      <th>2</th>\n",
       "      <td>0</td>\n",
       "      <td>0</td>\n",
       "      <td>0</td>\n",
       "      <td>0</td>\n",
       "      <td>0</td>\n",
       "      <td>0</td>\n",
       "      <td>0</td>\n",
       "      <td>0</td>\n",
       "      <td>0</td>\n",
       "      <td>0</td>\n",
       "      <td>0</td>\n",
       "      <td>0</td>\n",
       "      <td>0</td>\n",
       "      <td>0</td>\n",
       "      <td>0</td>\n",
       "      <td>1</td>\n",
       "    </tr>\n",
       "    <tr>\n",
       "      <th>3</th>\n",
       "      <td>0</td>\n",
       "      <td>0</td>\n",
       "      <td>0</td>\n",
       "      <td>0</td>\n",
       "      <td>0</td>\n",
       "      <td>0</td>\n",
       "      <td>0</td>\n",
       "      <td>0</td>\n",
       "      <td>0</td>\n",
       "      <td>0</td>\n",
       "      <td>0</td>\n",
       "      <td>0</td>\n",
       "      <td>0</td>\n",
       "      <td>0</td>\n",
       "      <td>1</td>\n",
       "      <td>0</td>\n",
       "    </tr>\n",
       "    <tr>\n",
       "      <th>4</th>\n",
       "      <td>0</td>\n",
       "      <td>0</td>\n",
       "      <td>0</td>\n",
       "      <td>0</td>\n",
       "      <td>0</td>\n",
       "      <td>0</td>\n",
       "      <td>0</td>\n",
       "      <td>0</td>\n",
       "      <td>0</td>\n",
       "      <td>0</td>\n",
       "      <td>0</td>\n",
       "      <td>0</td>\n",
       "      <td>0</td>\n",
       "      <td>0</td>\n",
       "      <td>0</td>\n",
       "      <td>1</td>\n",
       "    </tr>\n",
       "    <tr>\n",
       "      <th>...</th>\n",
       "      <td>...</td>\n",
       "      <td>...</td>\n",
       "      <td>...</td>\n",
       "      <td>...</td>\n",
       "      <td>...</td>\n",
       "      <td>...</td>\n",
       "      <td>...</td>\n",
       "      <td>...</td>\n",
       "      <td>...</td>\n",
       "      <td>...</td>\n",
       "      <td>...</td>\n",
       "      <td>...</td>\n",
       "      <td>...</td>\n",
       "      <td>...</td>\n",
       "      <td>...</td>\n",
       "      <td>...</td>\n",
       "    </tr>\n",
       "    <tr>\n",
       "      <th>1498172</th>\n",
       "      <td>0</td>\n",
       "      <td>0</td>\n",
       "      <td>0</td>\n",
       "      <td>0</td>\n",
       "      <td>0</td>\n",
       "      <td>0</td>\n",
       "      <td>0</td>\n",
       "      <td>0</td>\n",
       "      <td>0</td>\n",
       "      <td>0</td>\n",
       "      <td>0</td>\n",
       "      <td>0</td>\n",
       "      <td>0</td>\n",
       "      <td>0</td>\n",
       "      <td>1</td>\n",
       "      <td>0</td>\n",
       "    </tr>\n",
       "    <tr>\n",
       "      <th>1498173</th>\n",
       "      <td>0</td>\n",
       "      <td>0</td>\n",
       "      <td>0</td>\n",
       "      <td>0</td>\n",
       "      <td>0</td>\n",
       "      <td>0</td>\n",
       "      <td>0</td>\n",
       "      <td>0</td>\n",
       "      <td>0</td>\n",
       "      <td>0</td>\n",
       "      <td>0</td>\n",
       "      <td>0</td>\n",
       "      <td>0</td>\n",
       "      <td>0</td>\n",
       "      <td>1</td>\n",
       "      <td>0</td>\n",
       "    </tr>\n",
       "    <tr>\n",
       "      <th>1498174</th>\n",
       "      <td>0</td>\n",
       "      <td>0</td>\n",
       "      <td>0</td>\n",
       "      <td>0</td>\n",
       "      <td>0</td>\n",
       "      <td>0</td>\n",
       "      <td>0</td>\n",
       "      <td>0</td>\n",
       "      <td>0</td>\n",
       "      <td>0</td>\n",
       "      <td>0</td>\n",
       "      <td>0</td>\n",
       "      <td>0</td>\n",
       "      <td>0</td>\n",
       "      <td>1</td>\n",
       "      <td>0</td>\n",
       "    </tr>\n",
       "    <tr>\n",
       "      <th>1498175</th>\n",
       "      <td>0</td>\n",
       "      <td>0</td>\n",
       "      <td>0</td>\n",
       "      <td>0</td>\n",
       "      <td>0</td>\n",
       "      <td>0</td>\n",
       "      <td>0</td>\n",
       "      <td>0</td>\n",
       "      <td>0</td>\n",
       "      <td>0</td>\n",
       "      <td>0</td>\n",
       "      <td>0</td>\n",
       "      <td>0</td>\n",
       "      <td>0</td>\n",
       "      <td>1</td>\n",
       "      <td>0</td>\n",
       "    </tr>\n",
       "    <tr>\n",
       "      <th>1498176</th>\n",
       "      <td>0</td>\n",
       "      <td>0</td>\n",
       "      <td>0</td>\n",
       "      <td>0</td>\n",
       "      <td>0</td>\n",
       "      <td>0</td>\n",
       "      <td>0</td>\n",
       "      <td>0</td>\n",
       "      <td>0</td>\n",
       "      <td>0</td>\n",
       "      <td>0</td>\n",
       "      <td>0</td>\n",
       "      <td>0</td>\n",
       "      <td>0</td>\n",
       "      <td>1</td>\n",
       "      <td>0</td>\n",
       "    </tr>\n",
       "  </tbody>\n",
       "</table>\n",
       "<p>1498177 rows × 16 columns</p>\n",
       "</div>"
      ],
      "text/plain": [
       "         EL-SALVADOR-sender  FRENCH-GUIANA-sender  GEORGIA-sender  \\\n",
       "0                         0                     0               0   \n",
       "1                         0                     0               0   \n",
       "2                         0                     0               0   \n",
       "3                         0                     0               0   \n",
       "4                         0                     0               0   \n",
       "...                     ...                   ...             ...   \n",
       "1498172                   0                     0               0   \n",
       "1498173                   0                     0               0   \n",
       "1498174                   0                     0               0   \n",
       "1498175                   0                     0               0   \n",
       "1498176                   0                     0               0   \n",
       "\n",
       "         GERMANY-sender  GUAM-sender  ITALY-sender  JAMAICA-sender  \\\n",
       "0                     0            0             0               0   \n",
       "1                     0            0             0               0   \n",
       "2                     0            0             0               0   \n",
       "3                     0            0             0               0   \n",
       "4                     0            0             0               0   \n",
       "...                 ...          ...           ...             ...   \n",
       "1498172               0            0             0               0   \n",
       "1498173               0            0             0               0   \n",
       "1498174               0            0             0               0   \n",
       "1498175               0            0             0               0   \n",
       "1498176               0            0             0               0   \n",
       "\n",
       "         KUWAIT-sender  LIECHTENSTEIN-sender  MAURITANIA-sender  \\\n",
       "0                    0                     0                  0   \n",
       "1                    0                     0                  0   \n",
       "2                    0                     0                  0   \n",
       "3                    0                     0                  0   \n",
       "4                    0                     0                  0   \n",
       "...                ...                   ...                ...   \n",
       "1498172              0                     0                  0   \n",
       "1498173              0                     0                  0   \n",
       "1498174              0                     0                  0   \n",
       "1498175              0                     0                  0   \n",
       "1498176              0                     0                  0   \n",
       "\n",
       "         MOZAMBIQUE-sender  SAO-TOME-PRINCIPE-sender  SOUTH-SUDAN-sender  \\\n",
       "0                        0                         0                   0   \n",
       "1                        0                         0                   0   \n",
       "2                        0                         0                   0   \n",
       "3                        0                         0                   0   \n",
       "4                        0                         0                   0   \n",
       "...                    ...                       ...                 ...   \n",
       "1498172                  0                         0                   0   \n",
       "1498173                  0                         0                   0   \n",
       "1498174                  0                         0                   0   \n",
       "1498175                  0                         0                   0   \n",
       "1498176                  0                         0                   0   \n",
       "\n",
       "         THAILAND-sender  USA-sender  other-sender  \n",
       "0                      0           0             1  \n",
       "1                      0           1             0  \n",
       "2                      0           0             1  \n",
       "3                      0           1             0  \n",
       "4                      0           0             1  \n",
       "...                  ...         ...           ...  \n",
       "1498172                0           1             0  \n",
       "1498173                0           1             0  \n",
       "1498174                0           1             0  \n",
       "1498175                0           1             0  \n",
       "1498176                0           1             0  \n",
       "\n",
       "[1498177 rows x 16 columns]"
      ]
     },
     "execution_count": 59,
     "metadata": {},
     "output_type": "execute_result"
    }
   ],
   "source": [
    "df3 = pd.get_dummies(jp_df_copy2[\"Sender_Country_Modified\"],drop_first=True)\n",
    "df3"
   ]
  },
  {
   "cell_type": "code",
   "execution_count": 60,
   "id": "b157047a",
   "metadata": {},
   "outputs": [
    {
     "data": {
      "text/html": [
       "<div>\n",
       "<style scoped>\n",
       "    .dataframe tbody tr th:only-of-type {\n",
       "        vertical-align: middle;\n",
       "    }\n",
       "\n",
       "    .dataframe tbody tr th {\n",
       "        vertical-align: top;\n",
       "    }\n",
       "\n",
       "    .dataframe thead th {\n",
       "        text-align: right;\n",
       "    }\n",
       "</style>\n",
       "<table border=\"1\" class=\"dataframe\">\n",
       "  <thead>\n",
       "    <tr style=\"text-align: right;\">\n",
       "      <th></th>\n",
       "      <th>CANADA-bene</th>\n",
       "      <th>EL-SALVADOR-bene</th>\n",
       "      <th>FRENCH-GUIANA-bene</th>\n",
       "      <th>GEORGIA-bene</th>\n",
       "      <th>GERMANY-bene</th>\n",
       "      <th>GUAM-bene</th>\n",
       "      <th>ITALY-bene</th>\n",
       "      <th>JAMAICA-bene</th>\n",
       "      <th>KUWAIT-bene</th>\n",
       "      <th>LIECHTENSTEIN-bene</th>\n",
       "      <th>MAURITANIA-bene</th>\n",
       "      <th>MOZAMBIQUE-bene</th>\n",
       "      <th>SAO-TOME-PRINCIPE-bene</th>\n",
       "      <th>SOUTH-SUDAN-bene</th>\n",
       "      <th>THAILAND-bene</th>\n",
       "      <th>USA-bene</th>\n",
       "      <th>other-bene</th>\n",
       "    </tr>\n",
       "  </thead>\n",
       "  <tbody>\n",
       "    <tr>\n",
       "      <th>0</th>\n",
       "      <td>0</td>\n",
       "      <td>0</td>\n",
       "      <td>0</td>\n",
       "      <td>0</td>\n",
       "      <td>0</td>\n",
       "      <td>0</td>\n",
       "      <td>0</td>\n",
       "      <td>0</td>\n",
       "      <td>0</td>\n",
       "      <td>0</td>\n",
       "      <td>0</td>\n",
       "      <td>0</td>\n",
       "      <td>0</td>\n",
       "      <td>0</td>\n",
       "      <td>0</td>\n",
       "      <td>0</td>\n",
       "      <td>1</td>\n",
       "    </tr>\n",
       "    <tr>\n",
       "      <th>1</th>\n",
       "      <td>1</td>\n",
       "      <td>0</td>\n",
       "      <td>0</td>\n",
       "      <td>0</td>\n",
       "      <td>0</td>\n",
       "      <td>0</td>\n",
       "      <td>0</td>\n",
       "      <td>0</td>\n",
       "      <td>0</td>\n",
       "      <td>0</td>\n",
       "      <td>0</td>\n",
       "      <td>0</td>\n",
       "      <td>0</td>\n",
       "      <td>0</td>\n",
       "      <td>0</td>\n",
       "      <td>0</td>\n",
       "      <td>0</td>\n",
       "    </tr>\n",
       "    <tr>\n",
       "      <th>2</th>\n",
       "      <td>0</td>\n",
       "      <td>0</td>\n",
       "      <td>0</td>\n",
       "      <td>0</td>\n",
       "      <td>0</td>\n",
       "      <td>0</td>\n",
       "      <td>0</td>\n",
       "      <td>0</td>\n",
       "      <td>0</td>\n",
       "      <td>0</td>\n",
       "      <td>0</td>\n",
       "      <td>0</td>\n",
       "      <td>0</td>\n",
       "      <td>0</td>\n",
       "      <td>0</td>\n",
       "      <td>0</td>\n",
       "      <td>1</td>\n",
       "    </tr>\n",
       "    <tr>\n",
       "      <th>3</th>\n",
       "      <td>0</td>\n",
       "      <td>0</td>\n",
       "      <td>0</td>\n",
       "      <td>0</td>\n",
       "      <td>0</td>\n",
       "      <td>0</td>\n",
       "      <td>0</td>\n",
       "      <td>0</td>\n",
       "      <td>0</td>\n",
       "      <td>0</td>\n",
       "      <td>0</td>\n",
       "      <td>0</td>\n",
       "      <td>0</td>\n",
       "      <td>0</td>\n",
       "      <td>0</td>\n",
       "      <td>1</td>\n",
       "      <td>0</td>\n",
       "    </tr>\n",
       "    <tr>\n",
       "      <th>4</th>\n",
       "      <td>0</td>\n",
       "      <td>0</td>\n",
       "      <td>0</td>\n",
       "      <td>0</td>\n",
       "      <td>0</td>\n",
       "      <td>0</td>\n",
       "      <td>0</td>\n",
       "      <td>0</td>\n",
       "      <td>0</td>\n",
       "      <td>0</td>\n",
       "      <td>0</td>\n",
       "      <td>0</td>\n",
       "      <td>0</td>\n",
       "      <td>0</td>\n",
       "      <td>0</td>\n",
       "      <td>0</td>\n",
       "      <td>1</td>\n",
       "    </tr>\n",
       "    <tr>\n",
       "      <th>...</th>\n",
       "      <td>...</td>\n",
       "      <td>...</td>\n",
       "      <td>...</td>\n",
       "      <td>...</td>\n",
       "      <td>...</td>\n",
       "      <td>...</td>\n",
       "      <td>...</td>\n",
       "      <td>...</td>\n",
       "      <td>...</td>\n",
       "      <td>...</td>\n",
       "      <td>...</td>\n",
       "      <td>...</td>\n",
       "      <td>...</td>\n",
       "      <td>...</td>\n",
       "      <td>...</td>\n",
       "      <td>...</td>\n",
       "      <td>...</td>\n",
       "    </tr>\n",
       "    <tr>\n",
       "      <th>1498172</th>\n",
       "      <td>0</td>\n",
       "      <td>0</td>\n",
       "      <td>0</td>\n",
       "      <td>0</td>\n",
       "      <td>0</td>\n",
       "      <td>0</td>\n",
       "      <td>0</td>\n",
       "      <td>0</td>\n",
       "      <td>0</td>\n",
       "      <td>0</td>\n",
       "      <td>0</td>\n",
       "      <td>0</td>\n",
       "      <td>0</td>\n",
       "      <td>0</td>\n",
       "      <td>0</td>\n",
       "      <td>1</td>\n",
       "      <td>0</td>\n",
       "    </tr>\n",
       "    <tr>\n",
       "      <th>1498173</th>\n",
       "      <td>0</td>\n",
       "      <td>0</td>\n",
       "      <td>0</td>\n",
       "      <td>0</td>\n",
       "      <td>0</td>\n",
       "      <td>0</td>\n",
       "      <td>0</td>\n",
       "      <td>0</td>\n",
       "      <td>0</td>\n",
       "      <td>0</td>\n",
       "      <td>0</td>\n",
       "      <td>0</td>\n",
       "      <td>0</td>\n",
       "      <td>0</td>\n",
       "      <td>0</td>\n",
       "      <td>1</td>\n",
       "      <td>0</td>\n",
       "    </tr>\n",
       "    <tr>\n",
       "      <th>1498174</th>\n",
       "      <td>0</td>\n",
       "      <td>0</td>\n",
       "      <td>0</td>\n",
       "      <td>0</td>\n",
       "      <td>0</td>\n",
       "      <td>0</td>\n",
       "      <td>0</td>\n",
       "      <td>0</td>\n",
       "      <td>0</td>\n",
       "      <td>0</td>\n",
       "      <td>0</td>\n",
       "      <td>0</td>\n",
       "      <td>0</td>\n",
       "      <td>0</td>\n",
       "      <td>0</td>\n",
       "      <td>1</td>\n",
       "      <td>0</td>\n",
       "    </tr>\n",
       "    <tr>\n",
       "      <th>1498175</th>\n",
       "      <td>0</td>\n",
       "      <td>0</td>\n",
       "      <td>0</td>\n",
       "      <td>0</td>\n",
       "      <td>0</td>\n",
       "      <td>0</td>\n",
       "      <td>0</td>\n",
       "      <td>0</td>\n",
       "      <td>0</td>\n",
       "      <td>0</td>\n",
       "      <td>0</td>\n",
       "      <td>0</td>\n",
       "      <td>0</td>\n",
       "      <td>0</td>\n",
       "      <td>0</td>\n",
       "      <td>1</td>\n",
       "      <td>0</td>\n",
       "    </tr>\n",
       "    <tr>\n",
       "      <th>1498176</th>\n",
       "      <td>0</td>\n",
       "      <td>0</td>\n",
       "      <td>0</td>\n",
       "      <td>0</td>\n",
       "      <td>0</td>\n",
       "      <td>0</td>\n",
       "      <td>0</td>\n",
       "      <td>0</td>\n",
       "      <td>0</td>\n",
       "      <td>0</td>\n",
       "      <td>0</td>\n",
       "      <td>0</td>\n",
       "      <td>0</td>\n",
       "      <td>0</td>\n",
       "      <td>0</td>\n",
       "      <td>1</td>\n",
       "      <td>0</td>\n",
       "    </tr>\n",
       "  </tbody>\n",
       "</table>\n",
       "<p>1498177 rows × 17 columns</p>\n",
       "</div>"
      ],
      "text/plain": [
       "         CANADA-bene  EL-SALVADOR-bene  FRENCH-GUIANA-bene  GEORGIA-bene  \\\n",
       "0                  0                 0                   0             0   \n",
       "1                  1                 0                   0             0   \n",
       "2                  0                 0                   0             0   \n",
       "3                  0                 0                   0             0   \n",
       "4                  0                 0                   0             0   \n",
       "...              ...               ...                 ...           ...   \n",
       "1498172            0                 0                   0             0   \n",
       "1498173            0                 0                   0             0   \n",
       "1498174            0                 0                   0             0   \n",
       "1498175            0                 0                   0             0   \n",
       "1498176            0                 0                   0             0   \n",
       "\n",
       "         GERMANY-bene  GUAM-bene  ITALY-bene  JAMAICA-bene  KUWAIT-bene  \\\n",
       "0                   0          0           0             0            0   \n",
       "1                   0          0           0             0            0   \n",
       "2                   0          0           0             0            0   \n",
       "3                   0          0           0             0            0   \n",
       "4                   0          0           0             0            0   \n",
       "...               ...        ...         ...           ...          ...   \n",
       "1498172             0          0           0             0            0   \n",
       "1498173             0          0           0             0            0   \n",
       "1498174             0          0           0             0            0   \n",
       "1498175             0          0           0             0            0   \n",
       "1498176             0          0           0             0            0   \n",
       "\n",
       "         LIECHTENSTEIN-bene  MAURITANIA-bene  MOZAMBIQUE-bene  \\\n",
       "0                         0                0                0   \n",
       "1                         0                0                0   \n",
       "2                         0                0                0   \n",
       "3                         0                0                0   \n",
       "4                         0                0                0   \n",
       "...                     ...              ...              ...   \n",
       "1498172                   0                0                0   \n",
       "1498173                   0                0                0   \n",
       "1498174                   0                0                0   \n",
       "1498175                   0                0                0   \n",
       "1498176                   0                0                0   \n",
       "\n",
       "         SAO-TOME-PRINCIPE-bene  SOUTH-SUDAN-bene  THAILAND-bene  USA-bene  \\\n",
       "0                             0                 0              0         0   \n",
       "1                             0                 0              0         0   \n",
       "2                             0                 0              0         0   \n",
       "3                             0                 0              0         1   \n",
       "4                             0                 0              0         0   \n",
       "...                         ...               ...            ...       ...   \n",
       "1498172                       0                 0              0         1   \n",
       "1498173                       0                 0              0         1   \n",
       "1498174                       0                 0              0         1   \n",
       "1498175                       0                 0              0         1   \n",
       "1498176                       0                 0              0         1   \n",
       "\n",
       "         other-bene  \n",
       "0                 1  \n",
       "1                 0  \n",
       "2                 1  \n",
       "3                 0  \n",
       "4                 1  \n",
       "...             ...  \n",
       "1498172           0  \n",
       "1498173           0  \n",
       "1498174           0  \n",
       "1498175           0  \n",
       "1498176           0  \n",
       "\n",
       "[1498177 rows x 17 columns]"
      ]
     },
     "execution_count": 60,
     "metadata": {},
     "output_type": "execute_result"
    }
   ],
   "source": [
    "df4 = pd.get_dummies(jp_df_copy2[\"Bene_Country_Modified\"]).drop(bene_country_with_self,axis = 1)\n",
    "df4"
   ]
  },
  {
   "cell_type": "code",
   "execution_count": 61,
   "id": "1f652db5",
   "metadata": {},
   "outputs": [
    {
     "data": {
      "text/html": [
       "<div>\n",
       "<style scoped>\n",
       "    .dataframe tbody tr th:only-of-type {\n",
       "        vertical-align: middle;\n",
       "    }\n",
       "\n",
       "    .dataframe tbody tr th {\n",
       "        vertical-align: top;\n",
       "    }\n",
       "\n",
       "    .dataframe thead th {\n",
       "        text-align: right;\n",
       "    }\n",
       "</style>\n",
       "<table border=\"1\" class=\"dataframe\">\n",
       "  <thead>\n",
       "    <tr style=\"text-align: right;\">\n",
       "      <th></th>\n",
       "      <th>DEPOSIT-CHECK</th>\n",
       "      <th>EXCHANGE</th>\n",
       "      <th>MAKE-PAYMENT</th>\n",
       "      <th>MOVE-FUNDS</th>\n",
       "      <th>PAY-CHECK</th>\n",
       "      <th>QUICK-PAYMENT</th>\n",
       "      <th>WITHDRAWAL</th>\n",
       "    </tr>\n",
       "  </thead>\n",
       "  <tbody>\n",
       "    <tr>\n",
       "      <th>0</th>\n",
       "      <td>0</td>\n",
       "      <td>0</td>\n",
       "      <td>0</td>\n",
       "      <td>0</td>\n",
       "      <td>0</td>\n",
       "      <td>0</td>\n",
       "      <td>1</td>\n",
       "    </tr>\n",
       "    <tr>\n",
       "      <th>1</th>\n",
       "      <td>0</td>\n",
       "      <td>0</td>\n",
       "      <td>0</td>\n",
       "      <td>0</td>\n",
       "      <td>0</td>\n",
       "      <td>1</td>\n",
       "      <td>0</td>\n",
       "    </tr>\n",
       "    <tr>\n",
       "      <th>2</th>\n",
       "      <td>0</td>\n",
       "      <td>0</td>\n",
       "      <td>0</td>\n",
       "      <td>0</td>\n",
       "      <td>0</td>\n",
       "      <td>0</td>\n",
       "      <td>0</td>\n",
       "    </tr>\n",
       "    <tr>\n",
       "      <th>3</th>\n",
       "      <td>0</td>\n",
       "      <td>0</td>\n",
       "      <td>0</td>\n",
       "      <td>0</td>\n",
       "      <td>1</td>\n",
       "      <td>0</td>\n",
       "      <td>0</td>\n",
       "    </tr>\n",
       "    <tr>\n",
       "      <th>4</th>\n",
       "      <td>1</td>\n",
       "      <td>0</td>\n",
       "      <td>0</td>\n",
       "      <td>0</td>\n",
       "      <td>0</td>\n",
       "      <td>0</td>\n",
       "      <td>0</td>\n",
       "    </tr>\n",
       "    <tr>\n",
       "      <th>...</th>\n",
       "      <td>...</td>\n",
       "      <td>...</td>\n",
       "      <td>...</td>\n",
       "      <td>...</td>\n",
       "      <td>...</td>\n",
       "      <td>...</td>\n",
       "      <td>...</td>\n",
       "    </tr>\n",
       "    <tr>\n",
       "      <th>1498172</th>\n",
       "      <td>0</td>\n",
       "      <td>0</td>\n",
       "      <td>1</td>\n",
       "      <td>0</td>\n",
       "      <td>0</td>\n",
       "      <td>0</td>\n",
       "      <td>0</td>\n",
       "    </tr>\n",
       "    <tr>\n",
       "      <th>1498173</th>\n",
       "      <td>0</td>\n",
       "      <td>0</td>\n",
       "      <td>0</td>\n",
       "      <td>0</td>\n",
       "      <td>0</td>\n",
       "      <td>1</td>\n",
       "      <td>0</td>\n",
       "    </tr>\n",
       "    <tr>\n",
       "      <th>1498174</th>\n",
       "      <td>0</td>\n",
       "      <td>0</td>\n",
       "      <td>1</td>\n",
       "      <td>0</td>\n",
       "      <td>0</td>\n",
       "      <td>0</td>\n",
       "      <td>0</td>\n",
       "    </tr>\n",
       "    <tr>\n",
       "      <th>1498175</th>\n",
       "      <td>0</td>\n",
       "      <td>0</td>\n",
       "      <td>0</td>\n",
       "      <td>0</td>\n",
       "      <td>0</td>\n",
       "      <td>1</td>\n",
       "      <td>0</td>\n",
       "    </tr>\n",
       "    <tr>\n",
       "      <th>1498176</th>\n",
       "      <td>0</td>\n",
       "      <td>0</td>\n",
       "      <td>0</td>\n",
       "      <td>0</td>\n",
       "      <td>0</td>\n",
       "      <td>1</td>\n",
       "      <td>0</td>\n",
       "    </tr>\n",
       "  </tbody>\n",
       "</table>\n",
       "<p>1498177 rows × 7 columns</p>\n",
       "</div>"
      ],
      "text/plain": [
       "         DEPOSIT-CHECK  EXCHANGE  MAKE-PAYMENT  MOVE-FUNDS  PAY-CHECK  \\\n",
       "0                    0         0             0           0          0   \n",
       "1                    0         0             0           0          0   \n",
       "2                    0         0             0           0          0   \n",
       "3                    0         0             0           0          1   \n",
       "4                    1         0             0           0          0   \n",
       "...                ...       ...           ...         ...        ...   \n",
       "1498172              0         0             1           0          0   \n",
       "1498173              0         0             0           0          0   \n",
       "1498174              0         0             1           0          0   \n",
       "1498175              0         0             0           0          0   \n",
       "1498176              0         0             0           0          0   \n",
       "\n",
       "         QUICK-PAYMENT  WITHDRAWAL  \n",
       "0                    0           1  \n",
       "1                    1           0  \n",
       "2                    0           0  \n",
       "3                    0           0  \n",
       "4                    0           0  \n",
       "...                ...         ...  \n",
       "1498172              0           0  \n",
       "1498173              1           0  \n",
       "1498174              0           0  \n",
       "1498175              1           0  \n",
       "1498176              1           0  \n",
       "\n",
       "[1498177 rows x 7 columns]"
      ]
     },
     "execution_count": 61,
     "metadata": {},
     "output_type": "execute_result"
    }
   ],
   "source": [
    "df5 =pd.get_dummies(jp_df_copy2[\"Transaction_Type\"],drop_first = True)\n",
    "df5"
   ]
  },
  {
   "cell_type": "code",
   "execution_count": 62,
   "id": "5364f128",
   "metadata": {},
   "outputs": [],
   "source": [
    "final_df = pd.concat([df1,df2,df3,df4,df5,jp_df_copy2[[\"USD_amount\",\"Label\"]]],axis = 1)\n",
    "#final_df.head()"
   ]
  },
  {
   "cell_type": "code",
   "execution_count": null,
   "id": "4f67907e",
   "metadata": {},
   "outputs": [],
   "source": [
    "final_df.to_csv()"
   ]
  },
  {
   "cell_type": "markdown",
   "id": "bb960dbc",
   "metadata": {},
   "source": [
    "# 3. Split Train_Test Dataset"
   ]
  },
  {
   "cell_type": "code",
   "execution_count": 66,
   "id": "9678c019",
   "metadata": {},
   "outputs": [],
   "source": [
    "\n",
    "from sklearn.model_selection import train_test_split"
   ]
  },
  {
   "cell_type": "code",
   "execution_count": 63,
   "id": "916d0d37",
   "metadata": {},
   "outputs": [],
   "source": [
    "X_ = final_df.loc[:,final_df.columns!= \"Label\"]\n",
    "y_ = final_df.Label\n"
   ]
  },
  {
   "cell_type": "code",
   "execution_count": 64,
   "id": "6bf43d39",
   "metadata": {},
   "outputs": [],
   "source": [
    "x_index = list(range(len(final_df)))"
   ]
  },
  {
   "cell_type": "code",
   "execution_count": 67,
   "id": "c8e4eaf8",
   "metadata": {},
   "outputs": [],
   "source": [
    "X_train_indx, x_test_indx, Y_train, y_test = train_test_split(x_index,y_, test_size = 0.33, random_state=42)"
   ]
  },
  {
   "cell_type": "code",
   "execution_count": 71,
   "id": "288cea40",
   "metadata": {},
   "outputs": [],
   "source": [
    "train_dataset = final_df.iloc[X_train_indx]\n",
    "test_dataset = final_df.iloc[x_test_indx]\n"
   ]
  },
  {
   "cell_type": "code",
   "execution_count": 72,
   "id": "3771bb1c",
   "metadata": {},
   "outputs": [
    {
     "data": {
      "text/html": [
       "<div>\n",
       "<style scoped>\n",
       "    .dataframe tbody tr th:only-of-type {\n",
       "        vertical-align: middle;\n",
       "    }\n",
       "\n",
       "    .dataframe tbody tr th {\n",
       "        vertical-align: top;\n",
       "    }\n",
       "\n",
       "    .dataframe thead th {\n",
       "        text-align: right;\n",
       "    }\n",
       "</style>\n",
       "<table border=\"1\" class=\"dataframe\">\n",
       "  <thead>\n",
       "    <tr style=\"text-align: right;\">\n",
       "      <th></th>\n",
       "      <th>CLIENT-sender</th>\n",
       "      <th>COMPANY-sender</th>\n",
       "      <th>JPMC-CLIENT-self</th>\n",
       "      <th>JPMC-CLIENT-sender</th>\n",
       "      <th>JPMC-COMPANY-sender</th>\n",
       "      <th>CLIENT-bene</th>\n",
       "      <th>COMPANY-bene</th>\n",
       "      <th>JPMC-CLIENT-bene</th>\n",
       "      <th>JPMC-COMPANY-bene</th>\n",
       "      <th>EL-SALVADOR-sender</th>\n",
       "      <th>...</th>\n",
       "      <th>other-bene</th>\n",
       "      <th>DEPOSIT-CHECK</th>\n",
       "      <th>EXCHANGE</th>\n",
       "      <th>MAKE-PAYMENT</th>\n",
       "      <th>MOVE-FUNDS</th>\n",
       "      <th>PAY-CHECK</th>\n",
       "      <th>QUICK-PAYMENT</th>\n",
       "      <th>WITHDRAWAL</th>\n",
       "      <th>USD_amount</th>\n",
       "      <th>Label</th>\n",
       "    </tr>\n",
       "  </thead>\n",
       "  <tbody>\n",
       "    <tr>\n",
       "      <th>456507</th>\n",
       "      <td>0</td>\n",
       "      <td>0</td>\n",
       "      <td>0</td>\n",
       "      <td>1</td>\n",
       "      <td>0</td>\n",
       "      <td>1</td>\n",
       "      <td>0</td>\n",
       "      <td>0</td>\n",
       "      <td>0</td>\n",
       "      <td>0</td>\n",
       "      <td>...</td>\n",
       "      <td>1</td>\n",
       "      <td>0</td>\n",
       "      <td>0</td>\n",
       "      <td>0</td>\n",
       "      <td>0</td>\n",
       "      <td>0</td>\n",
       "      <td>1</td>\n",
       "      <td>0</td>\n",
       "      <td>581.34</td>\n",
       "      <td>0</td>\n",
       "    </tr>\n",
       "    <tr>\n",
       "      <th>1341532</th>\n",
       "      <td>0</td>\n",
       "      <td>1</td>\n",
       "      <td>0</td>\n",
       "      <td>0</td>\n",
       "      <td>0</td>\n",
       "      <td>0</td>\n",
       "      <td>0</td>\n",
       "      <td>1</td>\n",
       "      <td>0</td>\n",
       "      <td>0</td>\n",
       "      <td>...</td>\n",
       "      <td>0</td>\n",
       "      <td>0</td>\n",
       "      <td>0</td>\n",
       "      <td>0</td>\n",
       "      <td>1</td>\n",
       "      <td>0</td>\n",
       "      <td>0</td>\n",
       "      <td>0</td>\n",
       "      <td>2000.00</td>\n",
       "      <td>0</td>\n",
       "    </tr>\n",
       "    <tr>\n",
       "      <th>1063389</th>\n",
       "      <td>0</td>\n",
       "      <td>0</td>\n",
       "      <td>0</td>\n",
       "      <td>1</td>\n",
       "      <td>0</td>\n",
       "      <td>1</td>\n",
       "      <td>0</td>\n",
       "      <td>0</td>\n",
       "      <td>0</td>\n",
       "      <td>0</td>\n",
       "      <td>...</td>\n",
       "      <td>0</td>\n",
       "      <td>0</td>\n",
       "      <td>0</td>\n",
       "      <td>1</td>\n",
       "      <td>0</td>\n",
       "      <td>0</td>\n",
       "      <td>0</td>\n",
       "      <td>0</td>\n",
       "      <td>613.75</td>\n",
       "      <td>0</td>\n",
       "    </tr>\n",
       "    <tr>\n",
       "      <th>1395346</th>\n",
       "      <td>0</td>\n",
       "      <td>0</td>\n",
       "      <td>0</td>\n",
       "      <td>1</td>\n",
       "      <td>0</td>\n",
       "      <td>1</td>\n",
       "      <td>0</td>\n",
       "      <td>0</td>\n",
       "      <td>0</td>\n",
       "      <td>0</td>\n",
       "      <td>...</td>\n",
       "      <td>0</td>\n",
       "      <td>0</td>\n",
       "      <td>0</td>\n",
       "      <td>0</td>\n",
       "      <td>0</td>\n",
       "      <td>0</td>\n",
       "      <td>1</td>\n",
       "      <td>0</td>\n",
       "      <td>293.82</td>\n",
       "      <td>0</td>\n",
       "    </tr>\n",
       "    <tr>\n",
       "      <th>896861</th>\n",
       "      <td>1</td>\n",
       "      <td>0</td>\n",
       "      <td>0</td>\n",
       "      <td>0</td>\n",
       "      <td>0</td>\n",
       "      <td>0</td>\n",
       "      <td>0</td>\n",
       "      <td>1</td>\n",
       "      <td>0</td>\n",
       "      <td>0</td>\n",
       "      <td>...</td>\n",
       "      <td>0</td>\n",
       "      <td>0</td>\n",
       "      <td>0</td>\n",
       "      <td>0</td>\n",
       "      <td>0</td>\n",
       "      <td>1</td>\n",
       "      <td>0</td>\n",
       "      <td>0</td>\n",
       "      <td>715.15</td>\n",
       "      <td>0</td>\n",
       "    </tr>\n",
       "    <tr>\n",
       "      <th>...</th>\n",
       "      <td>...</td>\n",
       "      <td>...</td>\n",
       "      <td>...</td>\n",
       "      <td>...</td>\n",
       "      <td>...</td>\n",
       "      <td>...</td>\n",
       "      <td>...</td>\n",
       "      <td>...</td>\n",
       "      <td>...</td>\n",
       "      <td>...</td>\n",
       "      <td>...</td>\n",
       "      <td>...</td>\n",
       "      <td>...</td>\n",
       "      <td>...</td>\n",
       "      <td>...</td>\n",
       "      <td>...</td>\n",
       "      <td>...</td>\n",
       "      <td>...</td>\n",
       "      <td>...</td>\n",
       "      <td>...</td>\n",
       "      <td>...</td>\n",
       "    </tr>\n",
       "    <tr>\n",
       "      <th>259178</th>\n",
       "      <td>0</td>\n",
       "      <td>0</td>\n",
       "      <td>1</td>\n",
       "      <td>0</td>\n",
       "      <td>0</td>\n",
       "      <td>0</td>\n",
       "      <td>0</td>\n",
       "      <td>0</td>\n",
       "      <td>0</td>\n",
       "      <td>0</td>\n",
       "      <td>...</td>\n",
       "      <td>1</td>\n",
       "      <td>0</td>\n",
       "      <td>1</td>\n",
       "      <td>0</td>\n",
       "      <td>0</td>\n",
       "      <td>0</td>\n",
       "      <td>0</td>\n",
       "      <td>0</td>\n",
       "      <td>105.18</td>\n",
       "      <td>0</td>\n",
       "    </tr>\n",
       "    <tr>\n",
       "      <th>1414414</th>\n",
       "      <td>0</td>\n",
       "      <td>0</td>\n",
       "      <td>1</td>\n",
       "      <td>0</td>\n",
       "      <td>0</td>\n",
       "      <td>0</td>\n",
       "      <td>0</td>\n",
       "      <td>0</td>\n",
       "      <td>0</td>\n",
       "      <td>0</td>\n",
       "      <td>...</td>\n",
       "      <td>1</td>\n",
       "      <td>0</td>\n",
       "      <td>0</td>\n",
       "      <td>0</td>\n",
       "      <td>0</td>\n",
       "      <td>0</td>\n",
       "      <td>0</td>\n",
       "      <td>0</td>\n",
       "      <td>104.39</td>\n",
       "      <td>0</td>\n",
       "    </tr>\n",
       "    <tr>\n",
       "      <th>131932</th>\n",
       "      <td>0</td>\n",
       "      <td>0</td>\n",
       "      <td>0</td>\n",
       "      <td>1</td>\n",
       "      <td>0</td>\n",
       "      <td>1</td>\n",
       "      <td>0</td>\n",
       "      <td>0</td>\n",
       "      <td>0</td>\n",
       "      <td>0</td>\n",
       "      <td>...</td>\n",
       "      <td>0</td>\n",
       "      <td>0</td>\n",
       "      <td>0</td>\n",
       "      <td>0</td>\n",
       "      <td>1</td>\n",
       "      <td>0</td>\n",
       "      <td>0</td>\n",
       "      <td>0</td>\n",
       "      <td>823.29</td>\n",
       "      <td>0</td>\n",
       "    </tr>\n",
       "    <tr>\n",
       "      <th>671155</th>\n",
       "      <td>1</td>\n",
       "      <td>0</td>\n",
       "      <td>0</td>\n",
       "      <td>0</td>\n",
       "      <td>0</td>\n",
       "      <td>0</td>\n",
       "      <td>0</td>\n",
       "      <td>1</td>\n",
       "      <td>0</td>\n",
       "      <td>0</td>\n",
       "      <td>...</td>\n",
       "      <td>0</td>\n",
       "      <td>0</td>\n",
       "      <td>0</td>\n",
       "      <td>0</td>\n",
       "      <td>0</td>\n",
       "      <td>0</td>\n",
       "      <td>1</td>\n",
       "      <td>0</td>\n",
       "      <td>427.54</td>\n",
       "      <td>0</td>\n",
       "    </tr>\n",
       "    <tr>\n",
       "      <th>121958</th>\n",
       "      <td>0</td>\n",
       "      <td>0</td>\n",
       "      <td>1</td>\n",
       "      <td>0</td>\n",
       "      <td>0</td>\n",
       "      <td>0</td>\n",
       "      <td>0</td>\n",
       "      <td>0</td>\n",
       "      <td>0</td>\n",
       "      <td>0</td>\n",
       "      <td>...</td>\n",
       "      <td>1</td>\n",
       "      <td>0</td>\n",
       "      <td>0</td>\n",
       "      <td>0</td>\n",
       "      <td>0</td>\n",
       "      <td>0</td>\n",
       "      <td>0</td>\n",
       "      <td>1</td>\n",
       "      <td>197.36</td>\n",
       "      <td>0</td>\n",
       "    </tr>\n",
       "  </tbody>\n",
       "</table>\n",
       "<p>1003778 rows × 51 columns</p>\n",
       "</div>"
      ],
      "text/plain": [
       "         CLIENT-sender  COMPANY-sender  JPMC-CLIENT-self  JPMC-CLIENT-sender  \\\n",
       "456507               0               0                 0                   1   \n",
       "1341532              0               1                 0                   0   \n",
       "1063389              0               0                 0                   1   \n",
       "1395346              0               0                 0                   1   \n",
       "896861               1               0                 0                   0   \n",
       "...                ...             ...               ...                 ...   \n",
       "259178               0               0                 1                   0   \n",
       "1414414              0               0                 1                   0   \n",
       "131932               0               0                 0                   1   \n",
       "671155               1               0                 0                   0   \n",
       "121958               0               0                 1                   0   \n",
       "\n",
       "         JPMC-COMPANY-sender  CLIENT-bene  COMPANY-bene  JPMC-CLIENT-bene  \\\n",
       "456507                     0            1             0                 0   \n",
       "1341532                    0            0             0                 1   \n",
       "1063389                    0            1             0                 0   \n",
       "1395346                    0            1             0                 0   \n",
       "896861                     0            0             0                 1   \n",
       "...                      ...          ...           ...               ...   \n",
       "259178                     0            0             0                 0   \n",
       "1414414                    0            0             0                 0   \n",
       "131932                     0            1             0                 0   \n",
       "671155                     0            0             0                 1   \n",
       "121958                     0            0             0                 0   \n",
       "\n",
       "         JPMC-COMPANY-bene  EL-SALVADOR-sender  ...  other-bene  \\\n",
       "456507                   0                   0  ...           1   \n",
       "1341532                  0                   0  ...           0   \n",
       "1063389                  0                   0  ...           0   \n",
       "1395346                  0                   0  ...           0   \n",
       "896861                   0                   0  ...           0   \n",
       "...                    ...                 ...  ...         ...   \n",
       "259178                   0                   0  ...           1   \n",
       "1414414                  0                   0  ...           1   \n",
       "131932                   0                   0  ...           0   \n",
       "671155                   0                   0  ...           0   \n",
       "121958                   0                   0  ...           1   \n",
       "\n",
       "         DEPOSIT-CHECK  EXCHANGE  MAKE-PAYMENT  MOVE-FUNDS  PAY-CHECK  \\\n",
       "456507               0         0             0           0          0   \n",
       "1341532              0         0             0           1          0   \n",
       "1063389              0         0             1           0          0   \n",
       "1395346              0         0             0           0          0   \n",
       "896861               0         0             0           0          1   \n",
       "...                ...       ...           ...         ...        ...   \n",
       "259178               0         1             0           0          0   \n",
       "1414414              0         0             0           0          0   \n",
       "131932               0         0             0           1          0   \n",
       "671155               0         0             0           0          0   \n",
       "121958               0         0             0           0          0   \n",
       "\n",
       "         QUICK-PAYMENT  WITHDRAWAL  USD_amount  Label  \n",
       "456507               1           0      581.34      0  \n",
       "1341532              0           0     2000.00      0  \n",
       "1063389              0           0      613.75      0  \n",
       "1395346              1           0      293.82      0  \n",
       "896861               0           0      715.15      0  \n",
       "...                ...         ...         ...    ...  \n",
       "259178               0           0      105.18      0  \n",
       "1414414              0           0      104.39      0  \n",
       "131932               0           0      823.29      0  \n",
       "671155               1           0      427.54      0  \n",
       "121958               0           1      197.36      0  \n",
       "\n",
       "[1003778 rows x 51 columns]"
      ]
     },
     "execution_count": 72,
     "metadata": {},
     "output_type": "execute_result"
    }
   ],
   "source": [
    "train_dataset"
   ]
  },
  {
   "cell_type": "code",
   "execution_count": null,
   "id": "a24b7a75",
   "metadata": {},
   "outputs": [],
   "source": [
    "#write the dataframe to csv file\n",
    "train_dataset.to_csv(\"train_dataset.csv\")\n"
   ]
  },
  {
   "cell_type": "code",
   "execution_count": null,
   "id": "8d66b4b7",
   "metadata": {},
   "outputs": [],
   "source": [
    "test_dataset.to_csv(\"test_dataset.csv\")\n"
   ]
  }
 ],
 "metadata": {
  "kernelspec": {
   "display_name": "Python 3 (ipykernel)",
   "language": "python",
   "name": "python3"
  },
  "language_info": {
   "codemirror_mode": {
    "name": "ipython",
    "version": 3
   },
   "file_extension": ".py",
   "mimetype": "text/x-python",
   "name": "python",
   "nbconvert_exporter": "python",
   "pygments_lexer": "ipython3",
   "version": "3.7.0"
  },
  "vscode": {
   "interpreter": {
    "hash": "4ea2f954fb61301ad74bf647b76f176957dcdee4326b66e4e2d55b7ae215350c"
   }
  }
 },
 "nbformat": 4,
 "nbformat_minor": 5
}
